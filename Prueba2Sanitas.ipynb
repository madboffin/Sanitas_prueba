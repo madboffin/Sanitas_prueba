{
 "cells": [
  {
   "cell_type": "markdown",
   "id": "818d0557-a0a0-46a3-a0f0-3f66786b2942",
   "metadata": {},
   "source": [
    "# Prueba 2 - análisis de revisiones positivas y negativas"
   ]
  },
  {
   "cell_type": "markdown",
   "id": "6a32ea0d-8ae5-43a8-8361-8a1f8ab8d805",
   "metadata": {
    "tags": []
   },
   "source": [
    "# Introducción\n",
    "\n",
    "El objetivo es identificar cuando una reseña es positiva o negativa, para esto se realiza una exploracion de los datos dados, se hace limpieza y tratamiento de los datos con el objetivo de usarlos para generar un modelo que pueda predecir si la reseña es positiva o negativa."
   ]
  },
  {
   "cell_type": "code",
   "execution_count": 1,
   "id": "9323b7e3-d7e1-43eb-b147-9aa9111b4c5a",
   "metadata": {},
   "outputs": [],
   "source": [
    "# cargando liberías básicas de procesamiento de DataFrames y de texto\n",
    "import numpy as np\n",
    "import pandas as pd\n",
    "import spacy\n",
    "import string\n",
    "import re\n",
    "\n",
    "from sklearn.model_selection import train_test_split\n",
    "from spacy.tokens import DocBin"
   ]
  },
  {
   "cell_type": "code",
   "execution_count": 2,
   "id": "87b11e75-bc10-43c2-913d-b415b7e58c53",
   "metadata": {},
   "outputs": [
    {
     "data": {
      "text/html": [
       "<div>\n",
       "<style scoped>\n",
       "    .dataframe tbody tr th:only-of-type {\n",
       "        vertical-align: middle;\n",
       "    }\n",
       "\n",
       "    .dataframe tbody tr th {\n",
       "        vertical-align: top;\n",
       "    }\n",
       "\n",
       "    .dataframe thead th {\n",
       "        text-align: right;\n",
       "    }\n",
       "</style>\n",
       "<table border=\"1\" class=\"dataframe\">\n",
       "  <thead>\n",
       "    <tr style=\"text-align: right;\">\n",
       "      <th></th>\n",
       "      <th>text</th>\n",
       "      <th>tag</th>\n",
       "    </tr>\n",
       "  </thead>\n",
       "  <tbody>\n",
       "    <tr>\n",
       "      <th>0</th>\n",
       "      <td>in exotica everybody is watching , and what is...</td>\n",
       "      <td>pos</td>\n",
       "    </tr>\n",
       "    <tr>\n",
       "      <th>1</th>\n",
       "      <td>some of the gags are so carefully innocuous th...</td>\n",
       "      <td>neg</td>\n",
       "    </tr>\n",
       "    <tr>\n",
       "      <th>2</th>\n",
       "      <td>press junkets are a haven for control freaks .</td>\n",
       "      <td>neg</td>\n",
       "    </tr>\n",
       "    <tr>\n",
       "      <th>3</th>\n",
       "      <td>then i realized he was , and i was watching it .</td>\n",
       "      <td>neg</td>\n",
       "    </tr>\n",
       "    <tr>\n",
       "      <th>4</th>\n",
       "      <td>uh huh .</td>\n",
       "      <td>neg</td>\n",
       "    </tr>\n",
       "    <tr>\n",
       "      <th>...</th>\n",
       "      <td>...</td>\n",
       "      <td>...</td>\n",
       "    </tr>\n",
       "    <tr>\n",
       "      <th>29405</th>\n",
       "      <td>roro ( nicknamed \" jalla \" ) is having family ...</td>\n",
       "      <td>neg</td>\n",
       "    </tr>\n",
       "    <tr>\n",
       "      <th>29406</th>\n",
       "      <td>in three days time , or something .</td>\n",
       "      <td>neg</td>\n",
       "    </tr>\n",
       "    <tr>\n",
       "      <th>29407</th>\n",
       "      <td>director nicholas hytner is guilty of encourag...</td>\n",
       "      <td>neg</td>\n",
       "    </tr>\n",
       "    <tr>\n",
       "      <th>29408</th>\n",
       "      <td>neighbor runs a small failing grocery store .</td>\n",
       "      <td>neg</td>\n",
       "    </tr>\n",
       "    <tr>\n",
       "      <th>29409</th>\n",
       "      <td>what i admire most about city of angels is its...</td>\n",
       "      <td>pos</td>\n",
       "    </tr>\n",
       "  </tbody>\n",
       "</table>\n",
       "<p>29410 rows × 2 columns</p>\n",
       "</div>"
      ],
      "text/plain": [
       "                                                    text  tag\n",
       "0      in exotica everybody is watching , and what is...  pos\n",
       "1      some of the gags are so carefully innocuous th...  neg\n",
       "2         press junkets are a haven for control freaks .  neg\n",
       "3       then i realized he was , and i was watching it .  neg\n",
       "4                                               uh huh .  neg\n",
       "...                                                  ...  ...\n",
       "29405  roro ( nicknamed \" jalla \" ) is having family ...  neg\n",
       "29406                in three days time , or something .  neg\n",
       "29407  director nicholas hytner is guilty of encourag...  neg\n",
       "29408      neighbor runs a small failing grocery store .  neg\n",
       "29409  what i admire most about city of angels is its...  pos\n",
       "\n",
       "[29410 rows x 2 columns]"
      ]
     },
     "execution_count": 2,
     "metadata": {},
     "output_type": "execute_result"
    }
   ],
   "source": [
    "df_rev = pd.read_csv('NLP prueba 2.csv', index_col=0)\n",
    "df_rev"
   ]
  },
  {
   "cell_type": "markdown",
   "id": "3024dfc4-6a87-45d3-9206-071eac5b0d17",
   "metadata": {},
   "source": [
    "Como las revisiones se encuentran en inglés, se carga el módulo de la librería de este lenguaje"
   ]
  },
  {
   "cell_type": "code",
   "execution_count": 3,
   "id": "393916fd-b6fd-42ff-9027-cbf5ff5e69cd",
   "metadata": {},
   "outputs": [],
   "source": [
    "nlp = spacy.load('en_core_web_sm')\n",
    "\n",
    "stopwords = spacy.lang.en.stop_words.STOP_WORDS\n",
    "punctuation = string.punctuation"
   ]
  },
  {
   "cell_type": "markdown",
   "id": "15c361b6-ab60-4fe2-95d2-b9ed22951653",
   "metadata": {},
   "source": [
    "# Análisis exploratorio"
   ]
  },
  {
   "cell_type": "markdown",
   "id": "ee1bedca-fe70-4d7c-8640-ec75bf946c72",
   "metadata": {},
   "source": [
    "La parte más importante de la clasificación se encuentra en la revisión de la información y la limpieza de los datos. \n",
    "\n",
    "En primer lugar se revisa si hay información faltante."
   ]
  },
  {
   "cell_type": "code",
   "execution_count": 4,
   "id": "c572583d-69fc-4668-ba63-e624c624aa8a",
   "metadata": {},
   "outputs": [
    {
     "name": "stdout",
     "output_type": "stream",
     "text": [
      "Valores faltantes por columnas del DataFrame:\n"
     ]
    },
    {
     "data": {
      "text/plain": [
       "text    17\n",
       "tag      8\n",
       "dtype: int64"
      ]
     },
     "execution_count": 4,
     "metadata": {},
     "output_type": "execute_result"
    }
   ],
   "source": [
    "print('Valores faltantes por columnas del DataFrame:')\n",
    "df_rev.isna().sum()"
   ]
  },
  {
   "cell_type": "code",
   "execution_count": 5,
   "id": "fd0a8a14-6b79-4665-8237-fb4cbec80a7c",
   "metadata": {},
   "outputs": [
    {
     "data": {
      "text/html": [
       "<div>\n",
       "<style scoped>\n",
       "    .dataframe tbody tr th:only-of-type {\n",
       "        vertical-align: middle;\n",
       "    }\n",
       "\n",
       "    .dataframe tbody tr th {\n",
       "        vertical-align: top;\n",
       "    }\n",
       "\n",
       "    .dataframe thead th {\n",
       "        text-align: right;\n",
       "    }\n",
       "</style>\n",
       "<table border=\"1\" class=\"dataframe\">\n",
       "  <thead>\n",
       "    <tr style=\"text-align: right;\">\n",
       "      <th></th>\n",
       "      <th>text</th>\n",
       "      <th>tag</th>\n",
       "    </tr>\n",
       "  </thead>\n",
       "  <tbody>\n",
       "    <tr>\n",
       "      <th>904</th>\n",
       "      <td>A grandly ambitious, warmhearted, wildly uneve...</td>\n",
       "      <td>NaN</td>\n",
       "    </tr>\n",
       "    <tr>\n",
       "      <th>1137</th>\n",
       "      <td>Stunning visuals and imagery, exceptional dire...</td>\n",
       "      <td>NaN</td>\n",
       "    </tr>\n",
       "    <tr>\n",
       "      <th>3936</th>\n",
       "      <td>If only the scares were better.</td>\n",
       "      <td>NaN</td>\n",
       "    </tr>\n",
       "    <tr>\n",
       "      <th>3975</th>\n",
       "      <td>Candyman bolsters an already robust mythos wit...</td>\n",
       "      <td>NaN</td>\n",
       "    </tr>\n",
       "    <tr>\n",
       "      <th>5011</th>\n",
       "      <td>In short, a turkey.</td>\n",
       "      <td>NaN</td>\n",
       "    </tr>\n",
       "    <tr>\n",
       "      <th>13436</th>\n",
       "      <td>The film's disarming romcom sensibilities are ...</td>\n",
       "      <td>NaN</td>\n",
       "    </tr>\n",
       "    <tr>\n",
       "      <th>20433</th>\n",
       "      <td>I found this movie to be very engrossing and e...</td>\n",
       "      <td>NaN</td>\n",
       "    </tr>\n",
       "    <tr>\n",
       "      <th>26480</th>\n",
       "      <td>this movie is a complete joke</td>\n",
       "      <td>NaN</td>\n",
       "    </tr>\n",
       "  </tbody>\n",
       "</table>\n",
       "</div>"
      ],
      "text/plain": [
       "                                                    text  tag\n",
       "904    A grandly ambitious, warmhearted, wildly uneve...  NaN\n",
       "1137   Stunning visuals and imagery, exceptional dire...  NaN\n",
       "3936                     If only the scares were better.  NaN\n",
       "3975   Candyman bolsters an already robust mythos wit...  NaN\n",
       "5011                                 In short, a turkey.  NaN\n",
       "13436  The film's disarming romcom sensibilities are ...  NaN\n",
       "20433  I found this movie to be very engrossing and e...  NaN\n",
       "26480                      this movie is a complete joke  NaN"
      ]
     },
     "execution_count": 5,
     "metadata": {},
     "output_type": "execute_result"
    }
   ],
   "source": [
    "# Revisando las opiniones sin etiqueta\n",
    "df_rev[df_rev.tag.isna()]"
   ]
  },
  {
   "cell_type": "markdown",
   "id": "db477dde-3c4c-4067-9461-10bde30a3b28",
   "metadata": {},
   "source": [
    "La información faltante es pequeña en comparacion al número total de revisiones. \n",
    "\n",
    "Del total, hay 17 opiniones faltantes, algunas de las cuales tienen su etiqueta de positiva o negativa. Esta es una característica esencial, con etiqueta pero sin la opinión es inútil tomar esas muestras y no hay forma de completar esta información. Por otro lado sería posible asignar manualmente una etiqueta a partir del contenido, siempre y cuando el número de muestras sin etiquetas pero con texto sea bajo. En big data podría entrenarse el modelo **sin estos datos**, alcanzar un buen desempeño en datos de entrenamiento, y luego etiquetar las muestras faltantes. \n",
    "\n",
    "En este caso no se asignan etiquetas ya que es lo que se haría en un modelo de big data."
   ]
  },
  {
   "cell_type": "markdown",
   "id": "1e1080a5-5c93-418d-a313-aed1144f8459",
   "metadata": {},
   "source": [
    "## Distribucion de las etiquetas"
   ]
  },
  {
   "cell_type": "markdown",
   "id": "49e3f381-5460-4b53-b751-c0eadbef6fb7",
   "metadata": {},
   "source": [
    "Para el análisis y posterior entrenamiento de modelos es importante evaluar la distribución de las categorías, si una categoría es abrumadoramente mayoritaria este será un elemento relevante para el proceso de análisis y desarrollo del modelo de predicción. Una distribución muy desigual puede llevar a un modelo predictivo a ignorar la categoría minoritaria."
   ]
  },
  {
   "cell_type": "code",
   "execution_count": 6,
   "id": "09789a81-471a-454f-a974-0b9e7caac9bf",
   "metadata": {},
   "outputs": [
    {
     "name": "stdout",
     "output_type": "stream",
     "text": [
      "neg    25434\n",
      "pos     3968\n",
      "Name: tag, dtype: int64\n",
      "\n",
      "Distribución de categorias \n",
      " Positivas: 0.135, Negativas: 0.865\n"
     ]
    }
   ],
   "source": [
    "cat_dist = df_rev.tag.value_counts()\n",
    "print(cat_dist)\n",
    "print(f'\\nDistribución de categorias \\n Positivas: {cat_dist[1]/(np.sum(cat_dist)):.3f}, Negativas: {cat_dist[0]/(np.sum(cat_dist)):.3f}')"
   ]
  },
  {
   "cell_type": "markdown",
   "id": "2e918710-51c0-4147-83cc-6c9beefba3d4",
   "metadata": {},
   "source": [
    "De esta forma es posible obtener información relevante, el 87% de las opiniones registradas fueron etiquetadas como negativas. Para entrenar un modelo debe usarse alguno de los métodos que lidian con imbalances, ya sea a través de métodos como el uso pesos, la reducción de la categoría mayoritaria, o la creación de nuevas muestras minoritarias (aunque en este caso es difícil). Un modelo incapaz de discriminar categorías tendría una exactitud de 87% si etiqueta todas las opiniones como negativas."
   ]
  },
  {
   "cell_type": "markdown",
   "id": "f65d3acb-83ec-4271-b128-c02cbf143921",
   "metadata": {},
   "source": [
    "## Longitud en palabras"
   ]
  },
  {
   "cell_type": "markdown",
   "id": "9374979b-e5ab-4cd8-b78f-aaa1543fa2c4",
   "metadata": {},
   "source": [
    "En el análisis de texto, a menudo es útil revisar el número de palabras de cada opinión, a continuacion se muestra la distribución del número de palabras en los datos provistos."
   ]
  },
  {
   "cell_type": "code",
   "execution_count": 7,
   "id": "1738e54e-3428-4592-baa4-3ecd30289c90",
   "metadata": {},
   "outputs": [],
   "source": [
    "# se crea una columna nueva con el número de palabras del texto, separadas por espacio\n",
    "df_rev['words'] = df_rev.text.apply(lambda x : len( str(x).split() ) )"
   ]
  },
  {
   "cell_type": "code",
   "execution_count": 8,
   "id": "82df0192-403c-4722-93c8-01d2105a96ac",
   "metadata": {},
   "outputs": [
    {
     "data": {
      "image/png": "[encoded data removed]",
      "text/plain": [
       "<Figure size 2016x576 with 1 Axes>"
      ]
     },
     "metadata": {},
     "output_type": "display_data"
    }
   ],
   "source": [
    "import seaborn as sns\n",
    "import matplotlib.pyplot as plt\n",
    "\n",
    "df_wc = df_rev.groupby('words').size()\n",
    "\n",
    "sns.set_context('talk')\n",
    "sns.set_style('darkgrid')\n",
    "\n",
    "plt.figure(figsize=(28,8))\n",
    "plt.title(\"Distribución del número de palabras por opinión\")\n",
    "sns.barplot(x=df_wc.index, y=df_wc.values)\n",
    "plt.xticks([i-1 for i in range(0,90) if i%5==0])\n",
    "plt.xlabel(\"Número de palabras\")\n",
    "plt.ylabel(\"Cantidad opiniones con ese número de palabras\")\n",
    "sns.despine()\n",
    "plt.show()"
   ]
  },
  {
   "cell_type": "code",
   "execution_count": 9,
   "id": "dcfb2c1a-6490-4767-aed4-89131ca03636",
   "metadata": {},
   "outputs": [
    {
     "data": {
      "text/plain": [
       "count    29410.000000\n",
       "mean        22.403094\n",
       "std         13.516609\n",
       "min          1.000000\n",
       "25%         13.000000\n",
       "50%         20.000000\n",
       "75%         29.000000\n",
       "max        179.000000\n",
       "Name: words, dtype: float64"
      ]
     },
     "execution_count": 9,
     "metadata": {},
     "output_type": "execute_result"
    }
   ],
   "source": [
    "# una descripcion estadística del número de palabras encontrado\n",
    "df_rev.words.describe()"
   ]
  },
  {
   "cell_type": "code",
   "execution_count": 10,
   "id": "2a6b480e-6edb-41c3-812b-9408fcaddeac",
   "metadata": {},
   "outputs": [
    {
     "data": {
      "text/plain": [
       "4              uh huh .\n",
       "25                why ?\n",
       "35               ummm !\n",
       "105               fun ?\n",
       "116      or substance .\n",
       "              ...      \n",
       "29203     challenging ?\n",
       "29304        honestly .\n",
       "29318         if only .\n",
       "29322      piano duel ?\n",
       "29348       and gordy !\n",
       "Name: text, Length: 702, dtype: object"
      ]
     },
     "execution_count": 10,
     "metadata": {},
     "output_type": "execute_result"
    }
   ],
   "source": [
    "# revisando las opiniones con menos palabras\n",
    "df_rev[(df_rev.words<=3)].text"
   ]
  },
  {
   "cell_type": "markdown",
   "id": "0aa393a7-b606-4ee6-9f13-a574d424bebd",
   "metadata": {},
   "source": [
    "Las **opiniones más cortas carecen de sentido**, por lo que puede mejorar el desempeño del algoritmo si estas se eliminan."
   ]
  },
  {
   "cell_type": "code",
   "execution_count": 11,
   "id": "49ec15dd-aa56-425b-96dc-236a00a90ca7",
   "metadata": {},
   "outputs": [
    {
     "data": {
      "text/plain": [
       "6785     the film gives us charlton heston ( in one of ...\n",
       "23995    since that plot is incredibly lame and a track...\n",
       "27929    after the setup , in which the robinson family...\n",
       "Name: text, dtype: object"
      ]
     },
     "execution_count": 11,
     "metadata": {},
     "output_type": "execute_result"
    }
   ],
   "source": [
    "# revisando las opiniones con más palabras\n",
    "df_rev[(df_rev.words>150)].text"
   ]
  },
  {
   "cell_type": "code",
   "execution_count": 12,
   "id": "7ac5e071-7889-4051-9e05-de59d3e3c097",
   "metadata": {},
   "outputs": [
    {
     "data": {
      "text/plain": [
       "'after the setup , in which the robinson family--father john ( william hurt , looking and sounding as spaced out as he does in interviews ) , mother maureen ( rogers , wasted ) , daughters judy ( heather graham , ditto ) and penny ( a heavily made-up chabert , looking like a junior version of neve campbell in wild things ) , and son will ( young newcomer johnson , making the best of it ) --and pilot don west ( leblanc , doing a bad han solo impression ) find themselves lost in space after their ship is sabotaged by evil stowaway dr . smith ( a watered-down but still-lively oldman , cashing a paycheck and loving every minute ) , the script\\'s \" stream \" of events becomes so fragmented and random that it seems to be made up as it goes along--and hopkins does little to make what does go on the slightest bit interesting .'"
      ]
     },
     "execution_count": 12,
     "metadata": {},
     "output_type": "execute_result"
    }
   ],
   "source": [
    "# tomando un ejemplo\n",
    "df_rev[(df_rev.words>150)].text.iloc[2]"
   ]
  },
  {
   "cell_type": "markdown",
   "id": "fc27135c-7e81-4377-893f-2ad885ef5a8e",
   "metadata": {},
   "source": [
    "Al mirar las **opiniones más largas**, son pocas y parecen ser válidas, por lo que no sería recomendable removerlas."
   ]
  },
  {
   "cell_type": "code",
   "execution_count": 13,
   "id": "6ff96c8a-f209-4b62-b1ba-83cfacbbe1fc",
   "metadata": {
    "tags": []
   },
   "outputs": [],
   "source": [
    "def common_words(df, user_list=[]):\n",
    "    from collections import Counter\n",
    "    word_count = Counter()\n",
    "    for review in df.text:\n",
    "        if isinstance(review,float): continue\n",
    "        texto = review.split()   # se podria hacer tokenizando\n",
    "        for word in texto:\n",
    "            if word in [*stopwords, *punctuation, *user_list]: continue\n",
    "            word_count[word] += 1\n",
    "    return word_count"
   ]
  },
  {
   "cell_type": "code",
   "execution_count": 14,
   "id": "14b5e243-85ba-43d0-a724-2f2fa028249a",
   "metadata": {},
   "outputs": [
    {
     "data": {
      "text/plain": [
       "[('film', 612),\n",
       " ('movie', 309),\n",
       " (\"it's\", 223),\n",
       " ('like', 199),\n",
       " ('story', 150),\n",
       " ('good', 146),\n",
       " ('life', 135),\n",
       " ('time', 133),\n",
       " ('character', 118),\n",
       " ('way', 113),\n",
       " ('films', 111),\n",
       " ('characters', 106),\n",
       " ('best', 98),\n",
       " ('people', 93),\n",
       " ('new', 93)]"
      ]
     },
     "execution_count": 14,
     "metadata": {},
     "output_type": "execute_result"
    }
   ],
   "source": [
    "# revisando las palabras más comunes en las revisiones positivas\n",
    "cw = common_words(df_rev[df_rev.tag==\"pos\"])\n",
    "cw.most_common(15)"
   ]
  },
  {
   "cell_type": "code",
   "execution_count": 15,
   "id": "463defe9-5441-4824-8cf6-f2ff9b795f40",
   "metadata": {},
   "outputs": [
    {
     "data": {
      "text/plain": [
       "[('bad', 835),\n",
       " ('plot', 684),\n",
       " (\"don't\", 540),\n",
       " ('know', 508),\n",
       " ('action', 488),\n",
       " (\"there's\", 464),\n",
       " ('movies', 442),\n",
       " ('better', 440),\n",
       " ('big', 436),\n",
       " ('end', 418),\n",
       " ('work', 402),\n",
       " (\"isn't\", 389),\n",
       " ('script', 384),\n",
       " ('think', 371),\n",
       " ('going', 369)]"
      ]
     },
     "execution_count": 15,
     "metadata": {},
     "output_type": "execute_result"
    }
   ],
   "source": [
    "# revisando las palabras más comunes en las revisiones negativas, no se intersectan con las de las revisiones positivas\n",
    "common_pos = [tupl[0] for tupl in cw.most_common(25)]\n",
    "\n",
    "cw = common_words(df_rev[df_rev.tag==\"neg\"], common_pos)\n",
    "cw.most_common(15)"
   ]
  },
  {
   "cell_type": "markdown",
   "id": "b0dd1d6c-1538-4ba0-8baa-6d06166eaf5e",
   "metadata": {},
   "source": [
    "# Limpieza de datos"
   ]
  },
  {
   "cell_type": "markdown",
   "id": "0809da7d-0a78-4c99-ab6d-12d6bd33e87f",
   "metadata": {},
   "source": [
    "## Pipeline"
   ]
  },
  {
   "cell_type": "markdown",
   "id": "f7b0e859-54c8-4ad3-a855-e62f0da345ca",
   "metadata": {},
   "source": [
    "A continuación se definen las funciones de preprocesamiento y de generación de los archivos que necesita spacy"
   ]
  },
  {
   "cell_type": "code",
   "execution_count": 16,
   "id": "58a04f24-f557-4a34-8126-48658399327e",
   "metadata": {},
   "outputs": [],
   "source": [
    "def remove_url(txt):\n",
    "    txt = re.sub(r\"https?:\\S*\", \"\", txt, flags=re.MULTILINE)\n",
    "    return txt\n",
    "\n",
    "def clean_tokenizer(txt):\n",
    "    \"\"\"\n",
    "    Given a string, tokenizes the string, with lower case, no stopwords and no punctuation\n",
    "    \n",
    "    Input:\n",
    "     - string\n",
    "     \n",
    "    Output:\n",
    "     - list of tokenized words\n",
    "    \"\"\"\n",
    "    txt = remove_url(txt)\n",
    "    txt = nlp(txt)\n",
    "    \n",
    "    # lematizacion y remocion de stopwords\n",
    "    tokens = [word.lemma_.lower().strip() for word in txt if word.text not in [*stopwords,*punctuation]]\n",
    "    \n",
    "    return tokens\n",
    "\n",
    "\n",
    "def clean_text(txt):\n",
    "    return \" \".join(clean_tokenizer(txt))\n",
    "\n",
    "\n",
    "def make_docs(df):\n",
    "    \"\"\"\n",
    "    Transforms data into spacy documents\n",
    "    \n",
    "    Input:\n",
    "     - data: is a dataframe with 'text' and 'tag' columns\n",
    "     \n",
    "    Output:\n",
    "     - docs: a list of spacy tokens.doc.Doc, which are objects with the attributes needed by spacy\n",
    "     - data_train: preprocessed DataFrame\n",
    "     \n",
    "    \"\"\"\n",
    "    docs = []\n",
    "    \n",
    "    # turning data into tuples\n",
    "    data = tuple( zip( df.text.tolist(), df.tag.to_list() ) )\n",
    "    \n",
    "    # appending the object spacy.token.doc.Doc into a list\n",
    "    for doc, label in nlp.pipe(data, as_tuples=True):\n",
    "        doc.cats['positive'] = label\n",
    "        doc.cats['negative'] = 1 ^ label  # negacion XOR\n",
    "        docs.append(doc)\n",
    "        \n",
    "    return docs, data"
   ]
  },
  {
   "cell_type": "markdown",
   "id": "a5fc7cc0-5247-4ac2-973d-039f109162be",
   "metadata": {},
   "source": [
    "## Preprocesamiento: Transformaciones para entrenamiento"
   ]
  },
  {
   "cell_type": "code",
   "execution_count": 17,
   "id": "a911c508-62f7-4964-970d-45002f519b7c",
   "metadata": {},
   "outputs": [
    {
     "name": "stdout",
     "output_type": "stream",
     "text": [
      "                                                    text  tag  words\n",
      "0      in exotica everybody is watching , and what is...  pos     14\n",
      "1      some of the gags are so carefully innocuous th...  neg     11\n",
      "2         press junkets are a haven for control freaks .  neg      9\n",
      "3       then i realized he was , and i was watching it .  neg     12\n",
      "4                                               uh huh .  neg      3\n",
      "...                                                  ...  ...    ...\n",
      "29405  roro ( nicknamed \" jalla \" ) is having family ...  neg     12\n",
      "29406                in three days time , or something .  neg      8\n",
      "29407  director nicholas hytner is guilty of encourag...  neg     31\n",
      "29408      neighbor runs a small failing grocery store .  neg      8\n",
      "29409  what i admire most about city of angels is its...  pos     13\n",
      "\n",
      "[29410 rows x 3 columns]\n",
      "                                                    text  tag  words\n",
      "0             exotica everybody watch bad everybody know    1      6\n",
      "1                       gag carefully innocuous annoying    0      4\n",
      "2                       press junket haven control freak    0      5\n",
      "6                  cage sinise yes de palma deserve well    0      7\n",
      "7                 like couple kid explore lot end street    1      7\n",
      "...                                                  ...  ...    ...\n",
      "29404  answer sick twisted yes viewer treat shadowy g...    0     13\n",
      "29405            roro nickname jalla have family problem    0      6\n",
      "29407  director nicholas hytner guilty encouraging da...    0     16\n",
      "29408              neighbor run small fail grocery store    0      6\n",
      "29409             admire city angel overall presentation    1      5\n",
      "\n",
      "[24510 rows x 3 columns]\n"
     ]
    }
   ],
   "source": [
    "print(df_rev) # original\n",
    "\n",
    "# eliminando valores faltantes y duplicados\n",
    "df_rev = df_rev.dropna()\n",
    "df_rev = df_rev.drop_duplicates()\n",
    "\n",
    "# lowercase, lemizacion, limpiando stopwords y puntuacion\n",
    "df_rev.text = df_rev.text.apply(clean_text)\n",
    "df_rev['words'] = df_rev.text.apply(lambda x : len( str(x).split() ) )\n",
    "\n",
    "# eliminando muestas con bajo numero de palabras\n",
    "df_rev = df_rev[(df_rev.words>3)]\n",
    "\n",
    "# codificacion one hot para entrenar los modelos\n",
    "tag_onehot = {'pos':1, 'neg':0}\n",
    "df_rev.tag = df_rev.loc[:,'tag'].replace(tag_onehot)\n",
    "\n",
    "print(df_rev) # luego de las transformaciones"
   ]
  },
  {
   "cell_type": "code",
   "execution_count": 18,
   "id": "221dfd79-7edf-4aeb-87c6-a6d2660afd3a",
   "metadata": {},
   "outputs": [
    {
     "name": "stdout",
     "output_type": "stream",
     "text": [
      "0    3000\n",
      "1    3000\n",
      "Name: tag, dtype: int64\n"
     ]
    }
   ],
   "source": [
    "#creando un dataset balanceado\n",
    "df_list = []\n",
    "for i in range(2):\n",
    "    df = df_rev[df_rev.tag==i].sample(3000)\n",
    "    df_list.append(df)\n",
    "df_balanced = pd.concat(df_list)\n",
    "print(df_balanced.tag.value_counts())\n",
    "\n",
    "# separando entre sets de entrenamiento y test\n",
    "Xtrain, Xtest, ytrain, ytest = train_test_split(df_balanced.text, df_balanced.tag, stratify=df_balanced.tag, test_size=0.2) # para los otros modelos\n",
    "\n",
    "# separando dataset en entrenamiento y test\n",
    "df_train, df_test = train_test_split(df_balanced, stratify=df_balanced.tag, test_size=0.2) # para spacy"
   ]
  },
  {
   "cell_type": "code",
   "execution_count": 19,
   "id": "f221495f-52eb-4eb6-b562-a7e6b672f7e7",
   "metadata": {},
   "outputs": [],
   "source": [
    "# pasando los DataFrames a través del preprocesamiento y obteniendo los objetos de spacy\n",
    "train_docs, train_data = make_docs(df_train)\n",
    "test_docs, test_data = make_docs(df_test)"
   ]
  },
  {
   "cell_type": "code",
   "execution_count": 20,
   "id": "a4e75b93-dfdd-4a8b-b3c6-ace6cf7eb18e",
   "metadata": {},
   "outputs": [],
   "source": [
    "# creando los archivos de spacy en disco\n",
    "doc_bin = DocBin(docs=train_docs)\n",
    "doc_bin.to_disk(\"./spacy_data/text_train.spacy\")\n",
    "\n",
    "doc_bin = DocBin(docs=test_docs)\n",
    "doc_bin.to_disk(\"./spacy_data/text_test.spacy\")"
   ]
  },
  {
   "cell_type": "code",
   "execution_count": 21,
   "id": "a3e7708c-0bb4-4093-b8d6-dc153992e495",
   "metadata": {},
   "outputs": [
    {
     "data": {
      "text/plain": [
       "['tok2vec', 'tagger', 'parser', 'attribute_ruler', 'lemmatizer', 'ner']"
      ]
     },
     "execution_count": 21,
     "metadata": {},
     "output_type": "execute_result"
    }
   ],
   "source": [
    "nlp.pipe_names"
   ]
  },
  {
   "cell_type": "code",
   "execution_count": 22,
   "id": "535333a6-42d4-4398-ac54-29567abd8cf8",
   "metadata": {},
   "outputs": [
    {
     "name": "stdout",
     "output_type": "stream",
     "text": [
      "[+] Auto-filled config with all values\n",
      "[+] Saved config\n",
      "spacy_data\\config.cfg\n",
      "You can now add your data and train your pipeline:\n",
      "python -m spacy train config.cfg --paths.train ./train.spacy --paths.dev ./dev.spacy\n"
     ]
    }
   ],
   "source": [
    "!python -m spacy init fill-config ./spacy_data/base_config.cfg ./spacy_data/config.cfg"
   ]
  },
  {
   "cell_type": "code",
   "execution_count": 23,
   "id": "255346fe-8a8b-44ad-b65a-64d16d121bfe",
   "metadata": {},
   "outputs": [
    {
     "name": "stdout",
     "output_type": "stream",
     "text": [
      "^C\n"
     ]
    }
   ],
   "source": [
    "!python -m spacy train ./spacy_data/config.cfg --output ./spacy_data/output --paths.train ./spacy_data/text_train.spacy --paths.dev ./spacy_data/text_test.spacy"
   ]
  },
  {
   "cell_type": "markdown",
   "id": "3c4abc52-4b0b-4c1c-b375-10ae6638c52a",
   "metadata": {},
   "source": [
    "# Resultado del entrenamiento de spacy"
   ]
  },
  {
   "cell_type": "markdown",
   "id": "5b41fd4e-9b67-47e8-92ce-dfcd0b041a17",
   "metadata": {},
   "source": [
    "A continuacion se definen funciones para evaluar el desempeño de modelos de aprendizaje de máquina"
   ]
  },
  {
   "cell_type": "code",
   "execution_count": 24,
   "id": "9bee3abc-5c0d-4764-a223-a09f1ca3856b",
   "metadata": {},
   "outputs": [],
   "source": [
    "import sklearn\n",
    "\n",
    "sns.set_style('white')\n",
    "\n",
    "\n",
    "def plot_cm(y_test, predictions, normalize=None, **kargs):\n",
    "    from sklearn.metrics import ConfusionMatrixDisplay\n",
    "\n",
    "    cm = sklearn.metrics.confusion_matrix(y_test, predictions, normalize=normalize)\n",
    "    cm_fig = ConfusionMatrixDisplay(cm, display_labels=np.arange(2))\n",
    "    cm_fig.plot(cmap='Blues', **kargs)\n",
    "    return cm\n",
    "\n",
    "\n",
    "def plot_roc(name, y_true, predictions, **kwargs):\n",
    "    fpr, tpr, _ = sklearn.metrics.roc_curve(y_true, predictions)\n",
    "    auc_val = sklearn.metrics.auc(fpr, tpr)\n",
    "    roc_display = sklearn.metrics.RocCurveDisplay(fpr=fpr, tpr=tpr, roc_auc=auc_val, estimator_name=name)\n",
    "    roc_display.plot(**kwargs)\n",
    "    return auc_val\n",
    "\n",
    "\n",
    "def plot_rpc(name, y_true, predictions, **kwargs):\n",
    "    precision, recall, _ = sklearn.metrics.precision_recall_curve(y_true, predictions)\n",
    "    prc_display = sklearn.metrics.PrecisionRecallDisplay(\n",
    "        precision=precision, recall=recall, average_precision=np.mean(precision),\n",
    "        estimator_name=name)\n",
    "    prc_display.plot(linewidth=2, **kwargs)\n",
    "\n",
    "\n",
    "def eval_clf(y_test, y_pred, avoid_prob=1, clf=None):\n",
    "    acc = sklearn.metrics.accuracy_score(y_test, y_pred)\n",
    "    b_acc = sklearn.metrics.balanced_accuracy_score(y_test, y_pred)\n",
    "    precision = sklearn.metrics.precision_score(y_test, y_pred)\n",
    "    recall = sklearn.metrics.recall_score(y_test, y_pred)\n",
    "\n",
    "    print(f'Accuracy \\t{acc:.3f} \\t Balanced acc: \\t{b_acc:.3f}')\n",
    "    print(f'Recall: \\t{recall:.3f} \\t Precision: \\t{precision:.3f}\\n')\n",
    "\n",
    "    # confusion matrix\n",
    "    fig, ax = plt.subplots(nrows=1, ncols=2, figsize=(12, 4))\n",
    "    cm = plot_cm(y_test, y_pred, ax=ax[0], values_format='')\n",
    "    cm_n = plot_cm(y_test, y_pred, normalize='true', ax=ax[1], values_format='.3f')\n",
    "\n",
    "    # plotting curves\n",
    "    auc = np.nan\n",
    "    if not avoid_prob:\n",
    "        y_pred_proba = clf.predict_proba(X_test)[:, 1]\n",
    "        fig, ax = plt.subplots(nrows=1, ncols=2, figsize=(12, 4))\n",
    "        auc = plot_roc(\"roc\", y_test, y_pred_proba, ax=ax[0])\n",
    "        plot_rpc(\"rpc\", y_test, y_pred_proba, ax=ax[1])\n",
    "        ax[0].grid(True); ax[1].grid(True)\n",
    "    plt.show()\n",
    "    return b_acc, recall, precision, auc"
   ]
  },
  {
   "cell_type": "code",
   "execution_count": 25,
   "id": "ad7326cc-f3d9-41fd-8a33-8f88454beafd",
   "metadata": {},
   "outputs": [
    {
     "name": "stdin",
     "output_type": "stream",
     "text": [
      "Please input a review:  this is a bad movie\n"
     ]
    },
    {
     "name": "stdout",
     "output_type": "stream",
     "text": [
      "Negative review\n"
     ]
    }
   ],
   "source": [
    "# cargando el mejor modelo entrenado\n",
    "nlp = spacy.load('./spacy_data/output/model-best')\n",
    "\n",
    "text = input(\"Please input a review: \")\n",
    "doc = nlp(text)\n",
    "if doc.cats['positive']>0.5:\n",
    "    print(\"Positive review\")\n",
    "else:\n",
    "    print(\"Negative review\")"
   ]
  },
  {
   "cell_type": "code",
   "execution_count": 38,
   "id": "d3d90f49-d4c2-4ff0-9c48-6d3794c025fb",
   "metadata": {},
   "outputs": [
    {
     "name": "stdout",
     "output_type": "stream",
     "text": [
      "Accuracy \t0.561 \t Balanced acc: \t0.561\n",
      "Recall: \t0.600 \t Precision: \t0.556\n",
      "\n"
     ]
    },
    {
     "data": {
      "image/png": "[encoded data removed]",
      "text/plain": [
       "<Figure size 864x288 with 4 Axes>"
      ]
     },
     "metadata": {},
     "output_type": "display_data"
    },
    {
     "data": {
      "text/plain": [
       "(0.5608333333333333, 0.6, 0.5564142194744977, nan)"
      ]
     },
     "execution_count": 38,
     "metadata": {},
     "output_type": "execute_result"
    }
   ],
   "source": [
    "nlp = spacy.load('./spacy_data/output/model-best')\n",
    "\n",
    "def spacy_predict(text):\n",
    "    doc = nlp(text)\n",
    "    if doc.cats['positive']>=0.5: return 1\n",
    "    return 0\n",
    "\n",
    "ypred = np.asarray(df_test.text.apply(spacy_predict))\n",
    "eval_clf(df_test.tag.values, ypred)"
   ]
  },
  {
   "cell_type": "markdown",
   "id": "abbc560d-f76f-42de-a241-c51b1fd5c32e",
   "metadata": {},
   "source": [
    "Spacy es una buena libería para procesamiento de textos, pero aún así el costo computacional es alto y se favorece mucho por el suo de GPU. Además el manejo de la libería con datasets imbalanceados se hace un poco limitado. "
   ]
  },
  {
   "cell_type": "markdown",
   "id": "61b2140b-977f-440d-b2ba-06caab2da04c",
   "metadata": {},
   "source": [
    "# Usando otros modelos\n",
    "Es posible usar spacy para el preprocesamiento y otras liberías para el entrenamiento de modelos, lo que puede favorecer el trabajo con otros ingenieros y el uso de herramientas adicionales."
   ]
  },
  {
   "cell_type": "markdown",
   "id": "103325ce-f393-4eac-bc1b-e5b552a3b25b",
   "metadata": {},
   "source": [
    "## Deep learning"
   ]
  },
  {
   "cell_type": "code",
   "execution_count": 27,
   "id": "0d3ab1ea-b2b0-4bd6-ad68-17d4468976e2",
   "metadata": {},
   "outputs": [],
   "source": [
    "import tensorflow as tf\n",
    "from tensorflow.keras.preprocessing.text import Tokenizer\n",
    "from tensorflow.keras.preprocessing.sequence import pad_sequences\n",
    "from tensorflow.keras import regularizers\n",
    "from tensorflow.keras.layers import Embedding, Dense, GlobalMaxPooling1D, Dropout\n",
    "from tensorflow.keras.models import Sequential\n",
    "from tensorflow.keras import regularizers\n",
    "from tensorflow.keras.callbacks import EarlyStopping"
   ]
  },
  {
   "cell_type": "code",
   "execution_count": 28,
   "id": "dacb4b4a-78ef-45b8-bfa7-ee7925511691",
   "metadata": {},
   "outputs": [],
   "source": [
    "# usando el tokenizer de keras para vectorizar el texto\n",
    "tokenizer = Tokenizer(num_words=20000)\n",
    "\n",
    "#ajustando el tokenizer a las palabras del texto\n",
    "tokenizer.fit_on_texts(Xtrain)\n",
    "\n",
    "# transformando en vector\n",
    "Xtrain_seq = tokenizer.texts_to_sequences(Xtrain)\n",
    "Xtest_seq = tokenizer.texts_to_sequences(Xtest)\n",
    "\n",
    "# aplicando padding para uniformar los vectores\n",
    "train_seq = pad_sequences(Xtrain_seq, maxlen=110)\n",
    "test_seq = pad_sequences(Xtest_seq, maxlen=110)"
   ]
  },
  {
   "cell_type": "code",
   "execution_count": 30,
   "id": "1feb4084-a4b4-4006-8a8f-d798eae70870",
   "metadata": {},
   "outputs": [
    {
     "name": "stdout",
     "output_type": "stream",
     "text": [
      "Model: \"sequential\"\n",
      "_________________________________________________________________\n",
      "Layer (type)                 Output Shape              Param #   \n",
      "=================================================================\n",
      "embedding (Embedding)        (None, 110, 128)          2560000   \n",
      "_________________________________________________________________\n",
      "dense (Dense)                (None, 110, 128)          16512     \n",
      "_________________________________________________________________\n",
      "dropout (Dropout)            (None, 110, 128)          0         \n",
      "_________________________________________________________________\n",
      "dense_1 (Dense)              (None, 110, 128)          16512     \n",
      "_________________________________________________________________\n",
      "global_max_pooling1d (Global (None, 128)               0         \n",
      "_________________________________________________________________\n",
      "dense_2 (Dense)              (None, 5)                 645       \n",
      "=================================================================\n",
      "Total params: 2,593,669\n",
      "Trainable params: 2,593,669\n",
      "Non-trainable params: 0\n",
      "_________________________________________________________________\n"
     ]
    }
   ],
   "source": [
    "# definiendo un modelo de ANN\n",
    "model = Sequential()\n",
    "model.add(Embedding(20000, 128, input_length=110))\n",
    "model.add(Dense(128, activation='relu'))\n",
    "model.add(Dropout(0.2))\n",
    "model.add(Dense(128, activation='relu'))\n",
    "model.add(GlobalMaxPooling1D())\n",
    "model.add(Dense(5, activation='sigmoid'))\n",
    "model.compile(loss='sparse_categorical_crossentropy', optimizer='adam', metrics=['accuracy'])\n",
    "model.summary()"
   ]
  },
  {
   "cell_type": "code",
   "execution_count": 31,
   "id": "63c145e7-f550-4a29-a924-6630cb291035",
   "metadata": {},
   "outputs": [
    {
     "name": "stdout",
     "output_type": "stream",
     "text": [
      "Epoch 1/10\n",
      "120/120 [==============================] - 5s 38ms/step - loss: 0.7901 - accuracy: 0.5042 - val_loss: 0.6997 - val_accuracy: 0.5094\n",
      "Epoch 2/10\n",
      "120/120 [==============================] - 4s 32ms/step - loss: 0.6801 - accuracy: 0.5729 - val_loss: 0.6851 - val_accuracy: 0.5625\n",
      "Epoch 3/10\n",
      "120/120 [==============================] - 4s 34ms/step - loss: 0.5590 - accuracy: 0.7326 - val_loss: 0.7431 - val_accuracy: 0.5719\n",
      "Epoch 4/10\n",
      "120/120 [==============================] - 4s 36ms/step - loss: 0.3644 - accuracy: 0.8448 - val_loss: 0.8743 - val_accuracy: 0.5823\n",
      "Epoch 5/10\n",
      "120/120 [==============================] - 4s 36ms/step - loss: 0.2397 - accuracy: 0.9070 - val_loss: 1.0914 - val_accuracy: 0.5740\n",
      "Epoch 6/10\n",
      "120/120 [==============================] - 4s 33ms/step - loss: 0.1588 - accuracy: 0.9375 - val_loss: 1.3371 - val_accuracy: 0.5615\n",
      "Epoch 7/10\n",
      "120/120 [==============================] - 4s 34ms/step - loss: 0.1069 - accuracy: 0.9596 - val_loss: 1.5888 - val_accuracy: 0.5708\n",
      "Epoch 8/10\n",
      "120/120 [==============================] - 4s 35ms/step - loss: 0.0658 - accuracy: 0.9789 - val_loss: 1.8736 - val_accuracy: 0.5458\n",
      "Epoch 9/10\n",
      "120/120 [==============================] - 4s 34ms/step - loss: 0.0415 - accuracy: 0.9862 - val_loss: 2.1979 - val_accuracy: 0.5635\n",
      "Epoch 10/10\n",
      "120/120 [==============================] - 4s 34ms/step - loss: 0.0252 - accuracy: 0.9909 - val_loss: 2.4521 - val_accuracy: 0.5531\n"
     ]
    },
    {
     "data": {
      "text/plain": [
       "<tensorflow.python.keras.callbacks.History at 0x1fe522b9e80>"
      ]
     },
     "execution_count": 31,
     "metadata": {},
     "output_type": "execute_result"
    }
   ],
   "source": [
    "model.fit(train_seq, ytrain, validation_split=0.2, epochs=10)"
   ]
  },
  {
   "cell_type": "code",
   "execution_count": 33,
   "id": "2b9b2f50-9b8a-4ca6-a2f6-47953cc9524b",
   "metadata": {},
   "outputs": [
    {
     "name": "stdout",
     "output_type": "stream",
     "text": [
      "Model: \"sequential_1\"\n",
      "_________________________________________________________________\n",
      "Layer (type)                 Output Shape              Param #   \n",
      "=================================================================\n",
      "embedding_1 (Embedding)      (None, 110, 128)          2560000   \n",
      "_________________________________________________________________\n",
      "dense_3 (Dense)              (None, 110, 128)          16512     \n",
      "_________________________________________________________________\n",
      "dropout_1 (Dropout)          (None, 110, 128)          0         \n",
      "_________________________________________________________________\n",
      "dense_4 (Dense)              (None, 110, 128)          16512     \n",
      "_________________________________________________________________\n",
      "global_max_pooling1d_1 (Glob (None, 128)               0         \n",
      "_________________________________________________________________\n",
      "dense_5 (Dense)              (None, 5)                 645       \n",
      "=================================================================\n",
      "Total params: 2,593,669\n",
      "Trainable params: 2,593,669\n",
      "Non-trainable params: 0\n",
      "_________________________________________________________________\n"
     ]
    }
   ],
   "source": [
    "model = Sequential()\n",
    "model.add(Embedding(20000, 128, input_length=110))\n",
    "model.add(Dense(128, activation='relu'))\n",
    "model.add(Dropout(0.2))\n",
    "model.add(Dense(128, activation='relu',\n",
    "                kernel_regularizer=regularizers.l1_l2(l1=1e-5, l2=1e-4),\n",
    "                bias_regularizer=regularizers.l1(1e-4),\n",
    "                activity_regularizer=regularizers.l1(1e-5)))\n",
    "model.add(GlobalMaxPooling1D())\n",
    "model.add(Dense(5, activation='sigmoid'))\n",
    "model.compile(loss='sparse_categorical_crossentropy', optimizer='adam', metrics=['accuracy'])\n",
    "model.summary()"
   ]
  },
  {
   "cell_type": "code",
   "execution_count": 34,
   "id": "dfb49419-4341-4b8a-b4be-a0a444d7d17b",
   "metadata": {},
   "outputs": [
    {
     "name": "stdout",
     "output_type": "stream",
     "text": [
      "Epoch 1/50\n",
      "120/120 [==============================] - 6s 41ms/step - loss: 0.8760 - accuracy: 0.4831 - val_loss: 0.7596 - val_accuracy: 0.5094\n",
      "Epoch 2/50\n",
      "120/120 [==============================] - 5s 39ms/step - loss: 0.7254 - accuracy: 0.5654 - val_loss: 0.7442 - val_accuracy: 0.5333\n",
      "Epoch 3/50\n",
      "120/120 [==============================] - 5s 39ms/step - loss: 0.6110 - accuracy: 0.7208 - val_loss: 0.8058 - val_accuracy: 0.5562\n",
      "Epoch 4/50\n",
      "120/120 [==============================] - 4s 35ms/step - loss: 0.4356 - accuracy: 0.8284 - val_loss: 0.9456 - val_accuracy: 0.5823\n",
      "Epoch 5/50\n",
      "120/120 [==============================] - 4s 35ms/step - loss: 0.2905 - accuracy: 0.8891 - val_loss: 1.0759 - val_accuracy: 0.5927\n",
      "Epoch 6/50\n",
      "120/120 [==============================] - 4s 35ms/step - loss: 0.1965 - accuracy: 0.9323 - val_loss: 1.3295 - val_accuracy: 0.6010\n",
      "Epoch 7/50\n",
      "120/120 [==============================] - 5s 43ms/step - loss: 0.1465 - accuracy: 0.9516 - val_loss: 1.5141 - val_accuracy: 0.5917\n",
      "Epoch 8/50\n",
      "120/120 [==============================] - 7s 56ms/step - loss: 0.1013 - accuracy: 0.9719 - val_loss: 1.7158 - val_accuracy: 0.6021\n",
      "Epoch 9/50\n",
      "120/120 [==============================] - 7s 56ms/step - loss: 0.0793 - accuracy: 0.9771 - val_loss: 1.9349 - val_accuracy: 0.6000\n",
      "Epoch 10/50\n",
      "120/120 [==============================] - 4s 36ms/step - loss: 0.0587 - accuracy: 0.9854 - val_loss: 2.3493 - val_accuracy: 0.5896\n",
      "Epoch 11/50\n",
      "120/120 [==============================] - 4s 37ms/step - loss: 0.0533 - accuracy: 0.9857 - val_loss: 2.3594 - val_accuracy: 0.5771\n",
      "Epoch 12/50\n",
      "120/120 [==============================] - 4s 36ms/step - loss: 0.0395 - accuracy: 0.9914 - val_loss: 2.5377 - val_accuracy: 0.5906\n",
      "Epoch 13/50\n",
      "120/120 [==============================] - 4s 36ms/step - loss: 0.0315 - accuracy: 0.9932 - val_loss: 2.7356 - val_accuracy: 0.5938\n",
      "Epoch 14/50\n",
      "120/120 [==============================] - 4s 36ms/step - loss: 0.0262 - accuracy: 0.9961 - val_loss: 2.9833 - val_accuracy: 0.5990\n",
      "Epoch 15/50\n",
      "120/120 [==============================] - 4s 37ms/step - loss: 0.0208 - accuracy: 0.9971 - val_loss: 3.0002 - val_accuracy: 0.5896\n",
      "Epoch 16/50\n",
      "120/120 [==============================] - 4s 36ms/step - loss: 0.0190 - accuracy: 0.9979 - val_loss: 3.1378 - val_accuracy: 0.5927\n",
      "Epoch 17/50\n",
      "120/120 [==============================] - 4s 36ms/step - loss: 0.0192 - accuracy: 0.9982 - val_loss: 3.1299 - val_accuracy: 0.5875\n",
      "Epoch 18/50\n",
      "120/120 [==============================] - 4s 36ms/step - loss: 0.0201 - accuracy: 0.9977 - val_loss: 3.2111 - val_accuracy: 0.5990\n",
      "Epoch 19/50\n",
      "120/120 [==============================] - 4s 36ms/step - loss: 0.0174 - accuracy: 0.9974 - val_loss: 3.2477 - val_accuracy: 0.5906\n",
      "Epoch 20/50\n",
      "120/120 [==============================] - 4s 37ms/step - loss: 0.0155 - accuracy: 0.9987 - val_loss: 3.2519 - val_accuracy: 0.5875\n",
      "Epoch 21/50\n",
      "120/120 [==============================] - 4s 37ms/step - loss: 0.0155 - accuracy: 0.9982 - val_loss: 3.3479 - val_accuracy: 0.5833\n",
      "Epoch 22/50\n",
      "120/120 [==============================] - 4s 37ms/step - loss: 0.0140 - accuracy: 0.9990 - val_loss: 3.3658 - val_accuracy: 0.5948\n",
      "Epoch 23/50\n",
      "120/120 [==============================] - 4s 36ms/step - loss: 0.0131 - accuracy: 0.9990 - val_loss: 3.4481 - val_accuracy: 0.5927\n",
      "Epoch 24/50\n",
      "120/120 [==============================] - 4s 36ms/step - loss: 0.0138 - accuracy: 0.9987 - val_loss: 3.4760 - val_accuracy: 0.5760\n",
      "Epoch 25/50\n",
      "120/120 [==============================] - 4s 37ms/step - loss: 0.0136 - accuracy: 0.9992 - val_loss: 3.4042 - val_accuracy: 0.5875\n",
      "Epoch 26/50\n",
      "120/120 [==============================] - 4s 37ms/step - loss: 0.0117 - accuracy: 0.9987 - val_loss: 3.5818 - val_accuracy: 0.5917\n",
      "Epoch 27/50\n",
      "120/120 [==============================] - 4s 37ms/step - loss: 0.0110 - accuracy: 0.9995 - val_loss: 3.5597 - val_accuracy: 0.5958\n",
      "Epoch 28/50\n",
      "120/120 [==============================] - 4s 35ms/step - loss: 0.0098 - accuracy: 0.9992 - val_loss: 3.6073 - val_accuracy: 0.5969\n",
      "Epoch 29/50\n",
      "120/120 [==============================] - 4s 34ms/step - loss: 0.0109 - accuracy: 0.9990 - val_loss: 3.6991 - val_accuracy: 0.5802\n",
      "Epoch 30/50\n",
      "120/120 [==============================] - 4s 35ms/step - loss: 0.0117 - accuracy: 0.9990 - val_loss: 3.7289 - val_accuracy: 0.5792\n",
      "Epoch 31/50\n",
      "120/120 [==============================] - 4s 34ms/step - loss: 0.0130 - accuracy: 0.9979 - val_loss: 3.8516 - val_accuracy: 0.5833\n",
      "Epoch 32/50\n",
      "120/120 [==============================] - 4s 34ms/step - loss: 0.0124 - accuracy: 0.9979 - val_loss: 3.6821 - val_accuracy: 0.5875\n",
      "Epoch 33/50\n",
      "120/120 [==============================] - 4s 34ms/step - loss: 0.0089 - accuracy: 0.9992 - val_loss: 3.7685 - val_accuracy: 0.5750\n",
      "Epoch 34/50\n",
      "120/120 [==============================] - 4s 35ms/step - loss: 0.0099 - accuracy: 0.9987 - val_loss: 3.9877 - val_accuracy: 0.5667\n",
      "Epoch 35/50\n",
      "120/120 [==============================] - 4s 35ms/step - loss: 0.0121 - accuracy: 0.9974 - val_loss: 3.8216 - val_accuracy: 0.5833\n",
      "Epoch 36/50\n",
      "120/120 [==============================] - 4s 34ms/step - loss: 0.0080 - accuracy: 0.9990 - val_loss: 3.8520 - val_accuracy: 0.5854\n",
      "Epoch 37/50\n",
      "120/120 [==============================] - 4s 35ms/step - loss: 0.0089 - accuracy: 0.9990 - val_loss: 3.8750 - val_accuracy: 0.5813\n",
      "Epoch 38/50\n",
      "120/120 [==============================] - 4s 35ms/step - loss: 0.0091 - accuracy: 0.9992 - val_loss: 3.9123 - val_accuracy: 0.5802\n",
      "Epoch 39/50\n",
      "120/120 [==============================] - 4s 36ms/step - loss: 0.0093 - accuracy: 0.9987 - val_loss: 4.0175 - val_accuracy: 0.5833\n",
      "Epoch 40/50\n",
      "120/120 [==============================] - 4s 35ms/step - loss: 0.0079 - accuracy: 0.9992 - val_loss: 4.0708 - val_accuracy: 0.5823\n",
      "Epoch 41/50\n",
      "120/120 [==============================] - 4s 35ms/step - loss: 0.0073 - accuracy: 0.9997 - val_loss: 4.1476 - val_accuracy: 0.5750\n",
      "Epoch 42/50\n",
      "120/120 [==============================] - 4s 35ms/step - loss: 0.0127 - accuracy: 0.9974 - val_loss: 4.1029 - val_accuracy: 0.5698\n",
      "Epoch 43/50\n",
      "120/120 [==============================] - 4s 35ms/step - loss: 0.0106 - accuracy: 0.9987 - val_loss: 4.2355 - val_accuracy: 0.5750\n",
      "Epoch 44/50\n",
      "120/120 [==============================] - 4s 35ms/step - loss: 0.0075 - accuracy: 0.9987 - val_loss: 4.2583 - val_accuracy: 0.5781\n",
      "Epoch 45/50\n",
      "120/120 [==============================] - 4s 35ms/step - loss: 0.0057 - accuracy: 1.0000 - val_loss: 4.2675 - val_accuracy: 0.5896\n",
      "Epoch 46/50\n",
      "120/120 [==============================] - 4s 35ms/step - loss: 0.0053 - accuracy: 0.9997 - val_loss: 4.2577 - val_accuracy: 0.5844\n",
      "Epoch 47/50\n",
      "120/120 [==============================] - 4s 35ms/step - loss: 0.0071 - accuracy: 0.9990 - val_loss: 4.3243 - val_accuracy: 0.5833\n",
      "Epoch 48/50\n",
      "120/120 [==============================] - 4s 35ms/step - loss: 0.0066 - accuracy: 0.9990 - val_loss: 4.3896 - val_accuracy: 0.5792\n",
      "Epoch 49/50\n",
      "120/120 [==============================] - 4s 35ms/step - loss: 0.0059 - accuracy: 0.9995 - val_loss: 4.4982 - val_accuracy: 0.5802\n",
      "Epoch 50/50\n",
      "120/120 [==============================] - 4s 35ms/step - loss: 0.0063 - accuracy: 0.9990 - val_loss: 4.5541 - val_accuracy: 0.5708\n"
     ]
    },
    {
     "data": {
      "text/plain": [
       "<tensorflow.python.keras.callbacks.History at 0x1fe562b1d90>"
      ]
     },
     "execution_count": 34,
     "metadata": {},
     "output_type": "execute_result"
    }
   ],
   "source": [
    "model.fit(train_seq, ytrain, validation_split=0.2, epochs=50)"
   ]
  },
  {
   "cell_type": "code",
   "execution_count": 36,
   "id": "a45de753-c07f-48c0-9557-2ec32971468d",
   "metadata": {},
   "outputs": [
    {
     "name": "stdout",
     "output_type": "stream",
     "text": [
      "Accuracy \t0.576 \t Balanced acc: \t0.576\n",
      "Recall: \t0.552 \t Precision: \t0.580\n",
      "\n"
     ]
    },
    {
     "data": {
      "image/png": "[encoded data removed]",
      "text/plain": [
       "<Figure size 864x288 with 4 Axes>"
      ]
     },
     "metadata": {},
     "output_type": "display_data"
    },
    {
     "data": {
      "text/plain": [
       "(0.5758333333333333, 0.5516666666666666, 0.5796847635726795, nan)"
      ]
     },
     "execution_count": 36,
     "metadata": {},
     "output_type": "execute_result"
    }
   ],
   "source": [
    "ypred = np.argmax(model.predict(test_seq),axis=-1)\n",
    "\n",
    "eval_clf(ytest, ypred)"
   ]
  },
  {
   "cell_type": "markdown",
   "id": "d3afbf45-830d-42b4-92dc-38964f7a3384",
   "metadata": {},
   "source": [
    "El modelo de ANN logra un desempeño por encima del azar, aunque no es el valor esperado. Para su comparación se procede a realizar un modelo más simple, la regresión logística."
   ]
  },
  {
   "cell_type": "markdown",
   "id": "af9a5346-07e6-4790-978b-864cab635197",
   "metadata": {
    "tags": []
   },
   "source": [
    "## Regresión logística\n",
    "\n",
    "La regresión logística es un modelo estadístico sencillo que permite obtener la probabilidad de que una muestra pertenezca a una categoría. El modelo original se implementa para categorías binarias lo que funciona perfecto en este caso"
   ]
  },
  {
   "cell_type": "code",
   "execution_count": 39,
   "id": "5b1238b5-a7c7-4652-8d66-956fed684480",
   "metadata": {},
   "outputs": [],
   "source": [
    "from sklearn.feature_extraction.text import CountVectorizer, TfidfVectorizer\n",
    "from sklearn.base import TransformerMixin\n",
    "from sklearn.pipeline import Pipeline\n",
    "\n",
    "class predictors(TransformerMixin):\n",
    "    def transform(self, X, **transform_params):\n",
    "        return [clean_text(text) for text in X]\n",
    "    \n",
    "    def fit(self, X, y=None, **fit_params):\n",
    "        return self\n",
    "    \n",
    "    def get_params(self, deep=True):\n",
    "        return {}\n",
    "\n",
    "\n",
    "from sklearn.linear_model import LogisticRegression\n",
    "classifier = LogisticRegression()\n",
    "\n",
    "bow_vector = CountVectorizer( tokenizer = clean_tokenizer, ngram_range=(1,1) )\n",
    "tfidf_vector = TfidfVectorizer( tokenizer = clean_tokenizer )\n",
    "\n",
    "pipe = Pipeline([( \"cleaner\", predictors() ),\n",
    "                 ( \"vecorizer\", bow_vector), \n",
    "                 ( \"classifier\", classifier )])"
   ]
  },
  {
   "cell_type": "code",
   "execution_count": 40,
   "id": "4a167499-7619-48ee-8b48-e8a5833f9d74",
   "metadata": {},
   "outputs": [
    {
     "data": {
      "text/plain": [
       "Pipeline(steps=[('cleaner', <__main__.predictors object at 0x000001FE50903280>),\n",
       "                ('vecorizer',\n",
       "                 CountVectorizer(tokenizer=<function clean_tokenizer at 0x000001FE4EC4D1F0>)),\n",
       "                ('classifier', LogisticRegression())])"
      ]
     },
     "execution_count": 40,
     "metadata": {},
     "output_type": "execute_result"
    }
   ],
   "source": [
    "pipe.fit(Xtrain, ytrain)"
   ]
  },
  {
   "cell_type": "code",
   "execution_count": null,
   "id": "d5593c34-55e0-442b-a418-289308b02c9e",
   "metadata": {},
   "outputs": [],
   "source": [
    "# evaluacion del modelo\n",
    "ypred = pipe.predict(Xtest)\n",
    "\n",
    "eval_clf(ytest, ypred)"
   ]
  },
  {
   "cell_type": "code",
   "execution_count": 41,
   "id": "9384df94-c4cc-421a-b3e7-9f509cd32429",
   "metadata": {},
   "outputs": [],
   "source": [
    "def search_clf(clf, param_grid, X_train, y_train, cv=6, scoring=None,\n",
    "               rand_search=1, searches=10):\n",
    "    from sklearn.model_selection import GridSearchCV\n",
    "    from sklearn.model_selection import RandomizedSearchCV\n",
    "    from sklearn.model_selection import RepeatedStratifiedKFold\n",
    "\n",
    "    if cv=='RKfold': cv=RepeatedStratifiedKFold(n_splits=10, n_repeats=4, random_state=1)\n",
    "    if scoring is None: scoring = \"balanced_accuracy\"\n",
    "\n",
    "    # random search\n",
    "    if rand_search == 1:\n",
    "        search = RandomizedSearchCV(\n",
    "            estimator=clf, \n",
    "            param_distributions=param_grid, \n",
    "            n_iter=searches, \n",
    "            scoring=scoring, \n",
    "            cv=cv, \n",
    "            verbose=1, n_jobs=-1, random_state=1,\n",
    "            )\n",
    "    \n",
    "    # grid search\n",
    "    else:\n",
    "        search = GridSearchCV(\n",
    "            estimator=clf, \n",
    "            param_grid=param_grid, \n",
    "            scoring=scoring, \n",
    "            cv=cv, \n",
    "            verbose=1, n_jobs=-1,\n",
    "            )\n",
    "        \n",
    "    # training\n",
    "    result = search.fit(X_train, y_train)\n",
    "    print(f'Best Hyperparameters: {result.best_params_}, Best score: {result.best_score_:.3f}')\n",
    "\n",
    "    return result "
   ]
  },
  {
   "cell_type": "code",
   "execution_count": null,
   "id": "2ea039ba-baeb-43f0-89ae-e75c9829418f",
   "metadata": {},
   "outputs": [
    {
     "name": "stdout",
     "output_type": "stream",
     "text": [
      "Fitting 5 folds for each of 50 candidates, totalling 250 fits\n"
     ]
    }
   ],
   "source": [
    "# haciendo ajustamiento aleatorio de hiperparametros para mejorar el desempeño del clasificador\n",
    "from scipy.stats import loguniform\n",
    "\n",
    "param_grid_lr = {\n",
    "    'solver'  : ['newton-cg', 'lbfgs', 'liblinear'],\n",
    "    'penalty' : ['none', 'l1', 'l2', 'elasticnet'],\n",
    "    'C' : loguniform(1e-5, 100),\n",
    "}\n",
    "\n",
    "\n",
    "clf = search_clf(\n",
    "    classifier, param_grid_lr, train_seq, ytrain, cv=5, scoring='accuracy', rand_search=1, searches=50,\n",
    "    )  #'RKfold'"
   ]
  },
  {
   "cell_type": "code",
   "execution_count": null,
   "id": "865a8dab-69f9-4ce5-b6cc-0c571f5138f2",
   "metadata": {},
   "outputs": [],
   "source": [
    "ypred = clf.predict(test_seq)\n",
    "eval_clf(ytest, ypred)"
   ]
  },
  {
   "cell_type": "markdown",
   "id": "acb25be3-c6a0-45f5-adbc-1b2ddb7a0191",
   "metadata": {},
   "source": [
    "El modelo logistico no logró buen desempeño en ninguna de las dos formas de entrenamiento."
   ]
  },
  {
   "cell_type": "markdown",
   "id": "6be67346-88ec-4937-a36f-799aee5a3afa",
   "metadata": {},
   "source": [
    "# Conclusion\n",
    "\n",
    "Se entrenaron diversos modelos, el mejor modelo, ANN a través de Tensorflow y Keras, logró una precisión del 57.2 % en un dataset balanceado superando el desempeño de Spacy, aunque no se consigue un desempeño alto, este se encuentra por encima del azar. El peor desempeño ocurrió con el modelo de regresión logística, el modelo más simple, que era lo esperado.\n",
    "\n",
    "Se puede realizar una variedad de ajustes a los modelos, pero debido al tiempo limitado estos se exploran de forma muy superficial. El análisis de este tipo de información se puede enriquecer con una exploración más detallada, que permita evaluar las posibles falencias de los modelos. "
   ]
  }
 ],
 "metadata": {
  "kernelspec": {
   "display_name": "Python 3 (ipykernel)",
   "language": "python",
   "name": "python3"
  },
  "language_info": {
   "codemirror_mode": {
    "name": "ipython",
    "version": 3
   },
   "file_extension": ".py",
   "mimetype": "text/x-python",
   "name": "python",
   "nbconvert_exporter": "python",
   "pygments_lexer": "ipython3",
   "version": "3.9.7"
  }
 },
 "nbformat": 4,
 "nbformat_minor": 5
}
