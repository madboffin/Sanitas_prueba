{
 "cells": [
  {
   "cell_type": "markdown",
   "id": "818d0557-a0a0-46a3-a0f0-3f66786b2942",
   "metadata": {},
   "source": [
    "# Prueba 2 - análisis de revisiones positivas y negativas"
   ]
  },
  {
   "cell_type": "markdown",
   "id": "6a32ea0d-8ae5-43a8-8361-8a1f8ab8d805",
   "metadata": {
    "tags": []
   },
   "source": [
    "# Introducción\n",
    "\n",
    "El objetivo es identificar cuando una reseña es positiva o negativa, para esto se realiza una exploracion de los datos dados, se hace limpieza y tratamiento de los datos con el objetivo de usarlos para generar un modelo que pueda predecir si la reseña es positiva o negativa."
   ]
  },
  {
   "cell_type": "code",
   "execution_count": 1,
   "id": "9323b7e3-d7e1-43eb-b147-9aa9111b4c5a",
   "metadata": {},
   "outputs": [],
   "source": [
    "# cargando liberías básicas de procesamiento de DataFrames y de texto\n",
    "import numpy as np\n",
    "import pandas as pd\n",
    "import spacy\n",
    "import string\n",
    "import re\n",
    "\n",
    "from sklearn.model_selection import train_test_split\n",
    "from spacy.tokens import DocBin"
   ]
  },
  {
   "cell_type": "code",
   "execution_count": 2,
   "id": "87b11e75-bc10-43c2-913d-b415b7e58c53",
   "metadata": {},
   "outputs": [
    {
     "data": {
      "text/html": [
       "<div>\n",
       "<style scoped>\n",
       "    .dataframe tbody tr th:only-of-type {\n",
       "        vertical-align: middle;\n",
       "    }\n",
       "\n",
       "    .dataframe tbody tr th {\n",
       "        vertical-align: top;\n",
       "    }\n",
       "\n",
       "    .dataframe thead th {\n",
       "        text-align: right;\n",
       "    }\n",
       "</style>\n",
       "<table border=\"1\" class=\"dataframe\">\n",
       "  <thead>\n",
       "    <tr style=\"text-align: right;\">\n",
       "      <th></th>\n",
       "      <th>text</th>\n",
       "      <th>tag</th>\n",
       "    </tr>\n",
       "  </thead>\n",
       "  <tbody>\n",
       "    <tr>\n",
       "      <th>0</th>\n",
       "      <td>in exotica everybody is watching , and what is...</td>\n",
       "      <td>pos</td>\n",
       "    </tr>\n",
       "    <tr>\n",
       "      <th>1</th>\n",
       "      <td>some of the gags are so carefully innocuous th...</td>\n",
       "      <td>neg</td>\n",
       "    </tr>\n",
       "    <tr>\n",
       "      <th>2</th>\n",
       "      <td>press junkets are a haven for control freaks .</td>\n",
       "      <td>neg</td>\n",
       "    </tr>\n",
       "    <tr>\n",
       "      <th>3</th>\n",
       "      <td>then i realized he was , and i was watching it .</td>\n",
       "      <td>neg</td>\n",
       "    </tr>\n",
       "    <tr>\n",
       "      <th>4</th>\n",
       "      <td>uh huh .</td>\n",
       "      <td>neg</td>\n",
       "    </tr>\n",
       "    <tr>\n",
       "      <th>...</th>\n",
       "      <td>...</td>\n",
       "      <td>...</td>\n",
       "    </tr>\n",
       "    <tr>\n",
       "      <th>29405</th>\n",
       "      <td>roro ( nicknamed \" jalla \" ) is having family ...</td>\n",
       "      <td>neg</td>\n",
       "    </tr>\n",
       "    <tr>\n",
       "      <th>29406</th>\n",
       "      <td>in three days time , or something .</td>\n",
       "      <td>neg</td>\n",
       "    </tr>\n",
       "    <tr>\n",
       "      <th>29407</th>\n",
       "      <td>director nicholas hytner is guilty of encourag...</td>\n",
       "      <td>neg</td>\n",
       "    </tr>\n",
       "    <tr>\n",
       "      <th>29408</th>\n",
       "      <td>neighbor runs a small failing grocery store .</td>\n",
       "      <td>neg</td>\n",
       "    </tr>\n",
       "    <tr>\n",
       "      <th>29409</th>\n",
       "      <td>what i admire most about city of angels is its...</td>\n",
       "      <td>pos</td>\n",
       "    </tr>\n",
       "  </tbody>\n",
       "</table>\n",
       "<p>29410 rows × 2 columns</p>\n",
       "</div>"
      ],
      "text/plain": [
       "                                                    text  tag\n",
       "0      in exotica everybody is watching , and what is...  pos\n",
       "1      some of the gags are so carefully innocuous th...  neg\n",
       "2         press junkets are a haven for control freaks .  neg\n",
       "3       then i realized he was , and i was watching it .  neg\n",
       "4                                               uh huh .  neg\n",
       "...                                                  ...  ...\n",
       "29405  roro ( nicknamed \" jalla \" ) is having family ...  neg\n",
       "29406                in three days time , or something .  neg\n",
       "29407  director nicholas hytner is guilty of encourag...  neg\n",
       "29408      neighbor runs a small failing grocery store .  neg\n",
       "29409  what i admire most about city of angels is its...  pos\n",
       "\n",
       "[29410 rows x 2 columns]"
      ]
     },
     "execution_count": 2,
     "metadata": {},
     "output_type": "execute_result"
    }
   ],
   "source": [
    "df_rev = pd.read_csv('NLP prueba 2.csv', index_col=0)\n",
    "df_rev"
   ]
  },
  {
   "cell_type": "markdown",
   "id": "3024dfc4-6a87-45d3-9206-071eac5b0d17",
   "metadata": {},
   "source": [
    "Como las revisiones se encuentran en inglés, se carga el módulo de la librería de este lenguaje"
   ]
  },
  {
   "cell_type": "code",
   "execution_count": 3,
   "id": "393916fd-b6fd-42ff-9027-cbf5ff5e69cd",
   "metadata": {},
   "outputs": [],
   "source": [
    "nlp = spacy.load('en_core_web_sm')\n",
    "\n",
    "stopwords = spacy.lang.en.stop_words.STOP_WORDS\n",
    "punctuation = string.punctuation"
   ]
  },
  {
   "cell_type": "markdown",
   "id": "15c361b6-ab60-4fe2-95d2-b9ed22951653",
   "metadata": {},
   "source": [
    "# Análisis exploratorio"
   ]
  },
  {
   "cell_type": "markdown",
   "id": "ee1bedca-fe70-4d7c-8640-ec75bf946c72",
   "metadata": {},
   "source": [
    "La parte más importante de la clasificación se encuentra en la revisión de la información y la limpieza de los datos. \n",
    "\n",
    "En primer lugar se revisa si hay información faltante."
   ]
  },
  {
   "cell_type": "code",
   "execution_count": 4,
   "id": "c572583d-69fc-4668-ba63-e624c624aa8a",
   "metadata": {},
   "outputs": [
    {
     "name": "stdout",
     "output_type": "stream",
     "text": [
      "Valores faltantes por columnas del DataFrame:\n"
     ]
    },
    {
     "data": {
      "text/plain": [
       "text    17\n",
       "tag      8\n",
       "dtype: int64"
      ]
     },
     "execution_count": 4,
     "metadata": {},
     "output_type": "execute_result"
    }
   ],
   "source": [
    "print('Valores faltantes por columnas del DataFrame:')\n",
    "df_rev.isna().sum()"
   ]
  },
  {
   "cell_type": "code",
   "execution_count": 5,
   "id": "fd0a8a14-6b79-4665-8237-fb4cbec80a7c",
   "metadata": {},
   "outputs": [
    {
     "data": {
      "text/html": [
       "<div>\n",
       "<style scoped>\n",
       "    .dataframe tbody tr th:only-of-type {\n",
       "        vertical-align: middle;\n",
       "    }\n",
       "\n",
       "    .dataframe tbody tr th {\n",
       "        vertical-align: top;\n",
       "    }\n",
       "\n",
       "    .dataframe thead th {\n",
       "        text-align: right;\n",
       "    }\n",
       "</style>\n",
       "<table border=\"1\" class=\"dataframe\">\n",
       "  <thead>\n",
       "    <tr style=\"text-align: right;\">\n",
       "      <th></th>\n",
       "      <th>text</th>\n",
       "      <th>tag</th>\n",
       "    </tr>\n",
       "  </thead>\n",
       "  <tbody>\n",
       "    <tr>\n",
       "      <th>904</th>\n",
       "      <td>A grandly ambitious, warmhearted, wildly uneve...</td>\n",
       "      <td>NaN</td>\n",
       "    </tr>\n",
       "    <tr>\n",
       "      <th>1137</th>\n",
       "      <td>Stunning visuals and imagery, exceptional dire...</td>\n",
       "      <td>NaN</td>\n",
       "    </tr>\n",
       "    <tr>\n",
       "      <th>3936</th>\n",
       "      <td>If only the scares were better.</td>\n",
       "      <td>NaN</td>\n",
       "    </tr>\n",
       "    <tr>\n",
       "      <th>3975</th>\n",
       "      <td>Candyman bolsters an already robust mythos wit...</td>\n",
       "      <td>NaN</td>\n",
       "    </tr>\n",
       "    <tr>\n",
       "      <th>5011</th>\n",
       "      <td>In short, a turkey.</td>\n",
       "      <td>NaN</td>\n",
       "    </tr>\n",
       "    <tr>\n",
       "      <th>13436</th>\n",
       "      <td>The film's disarming romcom sensibilities are ...</td>\n",
       "      <td>NaN</td>\n",
       "    </tr>\n",
       "    <tr>\n",
       "      <th>20433</th>\n",
       "      <td>I found this movie to be very engrossing and e...</td>\n",
       "      <td>NaN</td>\n",
       "    </tr>\n",
       "    <tr>\n",
       "      <th>26480</th>\n",
       "      <td>this movie is a complete joke</td>\n",
       "      <td>NaN</td>\n",
       "    </tr>\n",
       "  </tbody>\n",
       "</table>\n",
       "</div>"
      ],
      "text/plain": [
       "                                                    text  tag\n",
       "904    A grandly ambitious, warmhearted, wildly uneve...  NaN\n",
       "1137   Stunning visuals and imagery, exceptional dire...  NaN\n",
       "3936                     If only the scares were better.  NaN\n",
       "3975   Candyman bolsters an already robust mythos wit...  NaN\n",
       "5011                                 In short, a turkey.  NaN\n",
       "13436  The film's disarming romcom sensibilities are ...  NaN\n",
       "20433  I found this movie to be very engrossing and e...  NaN\n",
       "26480                      this movie is a complete joke  NaN"
      ]
     },
     "execution_count": 5,
     "metadata": {},
     "output_type": "execute_result"
    }
   ],
   "source": [
    "# Revisando las opiniones sin etiqueta\n",
    "df_rev[df_rev.tag.isna()]"
   ]
  },
  {
   "cell_type": "markdown",
   "id": "db477dde-3c4c-4067-9461-10bde30a3b28",
   "metadata": {},
   "source": [
    "La información faltante es pequeña en comparacion al número total de revisiones. \n",
    "\n",
    "Del total, hay 17 opiniones faltantes, algunas de las cuales tienen su etiqueta de positiva o negativa. Esta es una característica esencial, con etiqueta pero sin la opinión es inútil tomar esas muestras y no hay forma de completar esta información. Por otro lado sería posible asignar manualmente una etiqueta a partir del contenido, siempre y cuando el número de muestras sin etiquetas pero con texto sea bajo. En big data podría entrenarse el modelo **sin estos datos**, alcanzar un buen desempeño en datos de entrenamiento, y luego etiquetar las muestras faltantes. \n",
    "\n",
    "En este caso no se asignan etiquetas ya que es lo que se haría en un modelo de big data."
   ]
  },
  {
   "cell_type": "markdown",
   "id": "1e1080a5-5c93-418d-a313-aed1144f8459",
   "metadata": {},
   "source": [
    "## Distribucion de las etiquetas"
   ]
  },
  {
   "cell_type": "markdown",
   "id": "49e3f381-5460-4b53-b751-c0eadbef6fb7",
   "metadata": {},
   "source": [
    "Para el análisis y posterior entrenamiento de modelos es importante evaluar la distribución de las categorías, si una categoría es abrumadoramente mayoritaria este será un elemento relevante para el proceso de análisis y desarrollo del modelo de predicción. Una distribución muy desigual puede llevar a un modelo predictivo a ignorar la categoría minoritaria."
   ]
  },
  {
   "cell_type": "code",
   "execution_count": 6,
   "id": "09789a81-471a-454f-a974-0b9e7caac9bf",
   "metadata": {},
   "outputs": [
    {
     "name": "stdout",
     "output_type": "stream",
     "text": [
      "neg    25434\n",
      "pos     3968\n",
      "Name: tag, dtype: int64\n",
      "\n",
      "Distribución de categorias \n",
      " Positivas: 0.135, Negativas: 0.865\n"
     ]
    }
   ],
   "source": [
    "cat_dist = df_rev.tag.value_counts()\n",
    "print(cat_dist)\n",
    "print(f'\\nDistribución de categorias \\n Positivas: {cat_dist[1]/(np.sum(cat_dist)):.3f}, Negativas: {cat_dist[0]/(np.sum(cat_dist)):.3f}')"
   ]
  },
  {
   "cell_type": "markdown",
   "id": "2e918710-51c0-4147-83cc-6c9beefba3d4",
   "metadata": {},
   "source": [
    "De esta forma es posible obtener información relevante, el 87% de las opiniones registradas fueron etiquetadas como negativas. Para entrenar un modelo debe usarse alguno de los métodos que lidian con imbalances, ya sea a través de métodos como el uso pesos, la reducción de la categoría mayoritaria, o la creación de nuevas muestras minoritarias (aunque en este caso es difícil). Un modelo incapaz de discriminar categorías tendría una exactitud de 87% si etiqueta todas las opiniones como negativas."
   ]
  },
  {
   "cell_type": "markdown",
   "id": "f65d3acb-83ec-4271-b128-c02cbf143921",
   "metadata": {},
   "source": [
    "## Longitud en palabras"
   ]
  },
  {
   "cell_type": "markdown",
   "id": "9374979b-e5ab-4cd8-b78f-aaa1543fa2c4",
   "metadata": {},
   "source": [
    "En el análisis de texto, a menudo es útil revisar el número de palabras de cada opinión, a continuacion se muestra la distribución del número de palabras en los datos provistos."
   ]
  },
  {
   "cell_type": "code",
   "execution_count": 7,
   "id": "1738e54e-3428-4592-baa4-3ecd30289c90",
   "metadata": {},
   "outputs": [],
   "source": [
    "# se crea una columna nueva con el número de palabras del texto, separadas por espacio\n",
    "df_rev['words'] = df_rev.text.apply(lambda x : len( str(x).split() ) )"
   ]
  },
  {
   "cell_type": "code",
   "execution_count": 8,
   "id": "82df0192-403c-4722-93c8-01d2105a96ac",
   "metadata": {},
   "outputs": [
    {
     "data": {
      "image/png": "[encoded data removed]",
      "text/plain": [
       "<Figure size 2016x576 with 1 Axes>"
      ]
     },
     "metadata": {},
     "output_type": "display_data"
    }
   ],
   "source": [
    "import seaborn as sns\n",
    "import matplotlib.pyplot as plt\n",
    "\n",
    "df_wc = df_rev.groupby('words').size()\n",
    "\n",
    "sns.set_context('talk')\n",
    "sns.set_style('darkgrid')\n",
    "\n",
    "plt.figure(figsize=(28,8))\n",
    "plt.title(\"Distribución del número de palabras por opinión\")\n",
    "sns.barplot(x=df_wc.index, y=df_wc.values)\n",
    "plt.xticks([i-1 for i in range(0,90) if i%5==0])\n",
    "plt.xlabel(\"Número de palabras\")\n",
    "plt.ylabel(\"Cantidad opiniones con ese número de palabras\")\n",
    "sns.despine()\n",
    "plt.show()"
   ]
  },
  {
   "cell_type": "code",
   "execution_count": 9,
   "id": "dcfb2c1a-6490-4767-aed4-89131ca03636",
   "metadata": {},
   "outputs": [
    {
     "data": {
      "text/plain": [
       "count    29410.000000\n",
       "mean        22.403094\n",
       "std         13.516609\n",
       "min          1.000000\n",
       "25%         13.000000\n",
       "50%         20.000000\n",
       "75%         29.000000\n",
       "max        179.000000\n",
       "Name: words, dtype: float64"
      ]
     },
     "execution_count": 9,
     "metadata": {},
     "output_type": "execute_result"
    }
   ],
   "source": [
    "# una descripcion estadística del número de palabras encontrado\n",
    "df_rev.words.describe()"
   ]
  },
  {
   "cell_type": "code",
   "execution_count": 10,
   "id": "2a6b480e-6edb-41c3-812b-9408fcaddeac",
   "metadata": {},
   "outputs": [
    {
     "data": {
      "text/plain": [
       "4              uh huh .\n",
       "25                why ?\n",
       "35               ummm !\n",
       "105               fun ?\n",
       "116      or substance .\n",
       "              ...      \n",
       "29203     challenging ?\n",
       "29304        honestly .\n",
       "29318         if only .\n",
       "29322      piano duel ?\n",
       "29348       and gordy !\n",
       "Name: text, Length: 702, dtype: object"
      ]
     },
     "execution_count": 10,
     "metadata": {},
     "output_type": "execute_result"
    }
   ],
   "source": [
    "# revisando las opiniones con menos palabras\n",
    "df_rev[(df_rev.words<=3)].text"
   ]
  },
  {
   "cell_type": "markdown",
   "id": "0aa393a7-b606-4ee6-9f13-a574d424bebd",
   "metadata": {},
   "source": [
    "Las **opiniones más cortas carecen de sentido**, por lo que puede mejorar el desempeño del algoritmo si estas se eliminan."
   ]
  },
  {
   "cell_type": "code",
   "execution_count": 11,
   "id": "49ec15dd-aa56-425b-96dc-236a00a90ca7",
   "metadata": {},
   "outputs": [
    {
     "data": {
      "text/plain": [
       "6785     the film gives us charlton heston ( in one of ...\n",
       "23995    since that plot is incredibly lame and a track...\n",
       "27929    after the setup , in which the robinson family...\n",
       "Name: text, dtype: object"
      ]
     },
     "execution_count": 11,
     "metadata": {},
     "output_type": "execute_result"
    }
   ],
   "source": [
    "# revisando las opiniones con más palabras\n",
    "df_rev[(df_rev.words>150)].text"
   ]
  },
  {
   "cell_type": "code",
   "execution_count": 12,
   "id": "7ac5e071-7889-4051-9e05-de59d3e3c097",
   "metadata": {},
   "outputs": [
    {
     "data": {
      "text/plain": [
       "'after the setup , in which the robinson family--father john ( william hurt , looking and sounding as spaced out as he does in interviews ) , mother maureen ( rogers , wasted ) , daughters judy ( heather graham , ditto ) and penny ( a heavily made-up chabert , looking like a junior version of neve campbell in wild things ) , and son will ( young newcomer johnson , making the best of it ) --and pilot don west ( leblanc , doing a bad han solo impression ) find themselves lost in space after their ship is sabotaged by evil stowaway dr . smith ( a watered-down but still-lively oldman , cashing a paycheck and loving every minute ) , the script\\'s \" stream \" of events becomes so fragmented and random that it seems to be made up as it goes along--and hopkins does little to make what does go on the slightest bit interesting .'"
      ]
     },
     "execution_count": 12,
     "metadata": {},
     "output_type": "execute_result"
    }
   ],
   "source": [
    "# tomando un ejemplo\n",
    "df_rev[(df_rev.words>150)].text.iloc[2]"
   ]
  },
  {
   "cell_type": "markdown",
   "id": "fc27135c-7e81-4377-893f-2ad885ef5a8e",
   "metadata": {},
   "source": [
    "Al mirar las **opiniones más largas**, son pocas y parecen ser válidas, por lo que no sería recomendable removerlas."
   ]
  },
  {
   "cell_type": "code",
   "execution_count": 13,
   "id": "6ff96c8a-f209-4b62-b1ba-83cfacbbe1fc",
   "metadata": {
    "tags": []
   },
   "outputs": [],
   "source": [
    "def common_words(df, user_list=[]):\n",
    "    from collections import Counter\n",
    "    word_count = Counter()\n",
    "    for review in df.text:\n",
    "        texto = review.split()   # esto se podria hacer tokenizando\n",
    "        for word in texto:\n",
    "            if word in [*stopwords, *punctuation, *user_list]: continue\n",
    "            word_count[word] += 1\n",
    "    return word_count"
   ]
  },
  {
   "cell_type": "code",
   "execution_count": 14,
   "id": "14b5e243-85ba-43d0-a724-2f2fa028249a",
   "metadata": {},
   "outputs": [
    {
     "data": {
      "text/plain": [
       "[]"
      ]
     },
     "execution_count": 14,
     "metadata": {},
     "output_type": "execute_result"
    }
   ],
   "source": [
    "cw = common_words(df_rev[df_rev.tag==1])\n",
    "cw.most_common(15)"
   ]
  },
  {
   "cell_type": "code",
   "execution_count": 15,
   "id": "463defe9-5441-4824-8cf6-f2ff9b795f40",
   "metadata": {},
   "outputs": [
    {
     "data": {
      "text/plain": [
       "[]"
      ]
     },
     "execution_count": 15,
     "metadata": {},
     "output_type": "execute_result"
    }
   ],
   "source": [
    "common_pos = [tupl[0] for tupl in cw.most_common(25)]\n",
    "\n",
    "cw = common_words(df_rev[df_rev.tag==0], common_pos)\n",
    "cw.most_common(15)"
   ]
  },
  {
   "cell_type": "markdown",
   "id": "b0dd1d6c-1538-4ba0-8baa-6d06166eaf5e",
   "metadata": {},
   "source": [
    "# Limpieza de datos"
   ]
  },
  {
   "cell_type": "markdown",
   "id": "a5fc7cc0-5247-4ac2-973d-039f109162be",
   "metadata": {},
   "source": [
    "## Transformaciones para entrenamiento"
   ]
  },
  {
   "cell_type": "code",
   "execution_count": 16,
   "id": "a911c508-62f7-4964-970d-45002f519b7c",
   "metadata": {},
   "outputs": [
    {
     "name": "stdout",
     "output_type": "stream",
     "text": [
      "                                                    text  tag  words\n",
      "0      in exotica everybody is watching , and what is...  pos     14\n",
      "1      some of the gags are so carefully innocuous th...  neg     11\n",
      "2         press junkets are a haven for control freaks .  neg      9\n",
      "3       then i realized he was , and i was watching it .  neg     12\n",
      "4                                               uh huh .  neg      3\n",
      "...                                                  ...  ...    ...\n",
      "29405  roro ( nicknamed \" jalla \" ) is having family ...  neg     12\n",
      "29406                in three days time , or something .  neg      8\n",
      "29407  director nicholas hytner is guilty of encourag...  neg     31\n",
      "29408      neighbor runs a small failing grocery store .  neg      8\n",
      "29409  what i admire most about city of angels is its...  pos     13\n",
      "\n",
      "[29410 rows x 3 columns]\n",
      "                                                    text  tag  words\n",
      "0      in exotica everybody is watching , and what is...    1     14\n",
      "1      some of the gags are so carefully innocuous th...    0     11\n",
      "2         press junkets are a haven for control freaks .    0      9\n",
      "3       then i realized he was , and i was watching it .    0     12\n",
      "5      and my god , couldn't they have done something...    0     14\n",
      "...                                                  ...  ...    ...\n",
      "29405  roro ( nicknamed \" jalla \" ) is having family ...    0     12\n",
      "29406                in three days time , or something .    0      8\n",
      "29407  director nicholas hytner is guilty of encourag...    0     31\n",
      "29408      neighbor runs a small failing grocery store .    0      8\n",
      "29409  what i admire most about city of angels is its...    1     13\n",
      "\n",
      "[28700 rows x 3 columns]\n"
     ]
    }
   ],
   "source": [
    "print(df_rev) # original\n",
    "\n",
    "# eliminando valores faltantes\n",
    "df_rev = df_rev.dropna()\n",
    "\n",
    "# eliminando muestas con bajo numero de palabras\n",
    "df_rev = df_rev[(df_rev.words>3)]\n",
    "\n",
    "# codificacion one hot para entrenar los modelos\n",
    "tag_onehot = {'pos':1, 'neg':0}\n",
    "df_rev.tag = df_rev.tag.replace(tag_onehot)\n",
    "\n",
    "print(df_rev) # luego de las transformaciones"
   ]
  },
  {
   "cell_type": "markdown",
   "id": "d57b125b-832a-4def-aec1-c0f0f1501514",
   "metadata": {},
   "source": [
    "## Pipeline"
   ]
  },
  {
   "cell_type": "markdown",
   "id": "1662d6c9-4e49-4fa2-aca0-f1cdfa2d96ed",
   "metadata": {},
   "source": [
    "A continuación se definen las funciones de preprocesamiento y de generación de los archivos que necesita spacy"
   ]
  },
  {
   "cell_type": "code",
   "execution_count": 17,
   "id": "58a04f24-f557-4a34-8126-48658399327e",
   "metadata": {},
   "outputs": [],
   "source": [
    "def remove_url(txt):\n",
    "    txt = re.sub(r\"https?:\\S*\", \"\", txt, flags=re.MULTILINE)\n",
    "    return txt\n",
    "\n",
    "\n",
    "def clean_text(txt):\n",
    "    return \" \".join(clean_tokenizer(txt))\n",
    "\n",
    "\n",
    "def clean_tokenizer(txt):\n",
    "    \"\"\"\n",
    "    Given a string, tokenizes the string, with lower case, no stopwords and no punctuation\n",
    "    \n",
    "    Input:\n",
    "     - string\n",
    "     \n",
    "    Output:\n",
    "     - list of tokenized words\n",
    "    \"\"\"\n",
    "    txt = remove_url(txt)\n",
    "    txt = nlp(txt)\n",
    "    \n",
    "    # lematizacion y remocion de stopwords\n",
    "    tokens = [word.lemma_.lower().strip() for word in txt if word not in [*stopwords,*punctuation]]\n",
    "    \n",
    "    return tokens\n",
    "\n",
    "\n",
    "def make_docs(df):\n",
    "    \"\"\"\n",
    "    Transforms data into spacy documents\n",
    "    \n",
    "    Input:\n",
    "     - data: is a dataframe with 'text' and 'tag' columns\n",
    "     \n",
    "    Output:\n",
    "     - docs: a list of spacy tokens.doc.Doc, which are objects with the attributes needed by spacy\n",
    "     - data_train: preprocessed DataFrame\n",
    "     \n",
    "    \"\"\"\n",
    "    docs = []\n",
    "    \n",
    "    # preprocessing\n",
    "    df.text = df.text.apply(clean_text)\n",
    "    \n",
    "    # turning data into tuples\n",
    "    data = tuple( zip( df.text.tolist(), data.tag.to_list() ) )\n",
    "    \n",
    "    # appending the object spacy.token.doc.Doc into a list\n",
    "    for doc, label in nlp.pipe(data, as_tuples=True):\n",
    "        doc.cats['positive'] = label\n",
    "        doc.cats['negative'] = 1 ^ label  # negacion XOR\n",
    "        docs.append(doc)\n",
    "        \n",
    "    return docs, data"
   ]
  },
  {
   "cell_type": "code",
   "execution_count": 18,
   "id": "77734b21-e5ec-4685-9133-f8d3c4c5b3de",
   "metadata": {},
   "outputs": [],
   "source": [
    "# separando dataset en entrenamiento y test\n",
    "df_train, df_test = train_test_split(df_rev, test_size=0.2)"
   ]
  },
  {
   "cell_type": "code",
   "execution_count": 19,
   "id": "f221495f-52eb-4eb6-b562-a7e6b672f7e7",
   "metadata": {},
   "outputs": [
    {
     "ename": "TypeError",
     "evalue": "Argument 'other' has incorrect type (expected spacy.tokens.token.Token, got str)",
     "output_type": "error",
     "traceback": [
      "\u001b[1;31m---------------------------------------------------------------------------\u001b[0m",
      "\u001b[1;31mTypeError\u001b[0m                                 Traceback (most recent call last)",
      "\u001b[1;32m~\\AppData\\Local\\Temp/ipykernel_2556/445607583.py\u001b[0m in \u001b[0;36m<module>\u001b[1;34m\u001b[0m\n\u001b[0;32m      1\u001b[0m \u001b[1;31m# pasando los DataFrames a través del preprocesamiento y obteniendo los objetos de spacy\u001b[0m\u001b[1;33m\u001b[0m\u001b[1;33m\u001b[0m\u001b[0m\n\u001b[1;32m----> 2\u001b[1;33m \u001b[0mtrain_docs\u001b[0m\u001b[1;33m,\u001b[0m \u001b[0mtrain_data\u001b[0m \u001b[1;33m=\u001b[0m \u001b[0mmake_docs\u001b[0m\u001b[1;33m(\u001b[0m\u001b[0mdf_train\u001b[0m\u001b[1;33m)\u001b[0m\u001b[1;33m\u001b[0m\u001b[1;33m\u001b[0m\u001b[0m\n\u001b[0m\u001b[0;32m      3\u001b[0m \u001b[0mtest_docs\u001b[0m\u001b[1;33m,\u001b[0m \u001b[0mtest_data\u001b[0m \u001b[1;33m=\u001b[0m \u001b[0mmake_docs\u001b[0m\u001b[1;33m(\u001b[0m\u001b[0mdf_test\u001b[0m\u001b[1;33m)\u001b[0m\u001b[1;33m\u001b[0m\u001b[1;33m\u001b[0m\u001b[0m\n",
      "\u001b[1;32m~\\AppData\\Local\\Temp/ipykernel_2556/4060603374.py\u001b[0m in \u001b[0;36mmake_docs\u001b[1;34m(df)\u001b[0m\n\u001b[0;32m     42\u001b[0m \u001b[1;33m\u001b[0m\u001b[0m\n\u001b[0;32m     43\u001b[0m     \u001b[1;31m# preprocessing\u001b[0m\u001b[1;33m\u001b[0m\u001b[1;33m\u001b[0m\u001b[0m\n\u001b[1;32m---> 44\u001b[1;33m     \u001b[0mdf\u001b[0m\u001b[1;33m.\u001b[0m\u001b[0mtext\u001b[0m \u001b[1;33m=\u001b[0m \u001b[0mdf\u001b[0m\u001b[1;33m.\u001b[0m\u001b[0mtext\u001b[0m\u001b[1;33m.\u001b[0m\u001b[0mapply\u001b[0m\u001b[1;33m(\u001b[0m\u001b[0mclean_text\u001b[0m\u001b[1;33m)\u001b[0m\u001b[1;33m\u001b[0m\u001b[1;33m\u001b[0m\u001b[0m\n\u001b[0m\u001b[0;32m     45\u001b[0m \u001b[1;33m\u001b[0m\u001b[0m\n\u001b[0;32m     46\u001b[0m     \u001b[1;31m# turning data into tuples\u001b[0m\u001b[1;33m\u001b[0m\u001b[1;33m\u001b[0m\u001b[0m\n",
      "\u001b[1;32m~\\anaconda3\\envs\\sanitas\\lib\\site-packages\\pandas\\core\\series.py\u001b[0m in \u001b[0;36mapply\u001b[1;34m(self, func, convert_dtype, args, **kwargs)\u001b[0m\n\u001b[0;32m   4431\u001b[0m         \u001b[0mdtype\u001b[0m\u001b[1;33m:\u001b[0m \u001b[0mfloat64\u001b[0m\u001b[1;33m\u001b[0m\u001b[1;33m\u001b[0m\u001b[0m\n\u001b[0;32m   4432\u001b[0m         \"\"\"\n\u001b[1;32m-> 4433\u001b[1;33m         \u001b[1;32mreturn\u001b[0m \u001b[0mSeriesApply\u001b[0m\u001b[1;33m(\u001b[0m\u001b[0mself\u001b[0m\u001b[1;33m,\u001b[0m \u001b[0mfunc\u001b[0m\u001b[1;33m,\u001b[0m \u001b[0mconvert_dtype\u001b[0m\u001b[1;33m,\u001b[0m \u001b[0margs\u001b[0m\u001b[1;33m,\u001b[0m \u001b[0mkwargs\u001b[0m\u001b[1;33m)\u001b[0m\u001b[1;33m.\u001b[0m\u001b[0mapply\u001b[0m\u001b[1;33m(\u001b[0m\u001b[1;33m)\u001b[0m\u001b[1;33m\u001b[0m\u001b[1;33m\u001b[0m\u001b[0m\n\u001b[0m\u001b[0;32m   4434\u001b[0m \u001b[1;33m\u001b[0m\u001b[0m\n\u001b[0;32m   4435\u001b[0m     def _reduce(\n",
      "\u001b[1;32m~\\anaconda3\\envs\\sanitas\\lib\\site-packages\\pandas\\core\\apply.py\u001b[0m in \u001b[0;36mapply\u001b[1;34m(self)\u001b[0m\n\u001b[0;32m   1080\u001b[0m             \u001b[1;32mreturn\u001b[0m \u001b[0mself\u001b[0m\u001b[1;33m.\u001b[0m\u001b[0mapply_str\u001b[0m\u001b[1;33m(\u001b[0m\u001b[1;33m)\u001b[0m\u001b[1;33m\u001b[0m\u001b[1;33m\u001b[0m\u001b[0m\n\u001b[0;32m   1081\u001b[0m \u001b[1;33m\u001b[0m\u001b[0m\n\u001b[1;32m-> 1082\u001b[1;33m         \u001b[1;32mreturn\u001b[0m \u001b[0mself\u001b[0m\u001b[1;33m.\u001b[0m\u001b[0mapply_standard\u001b[0m\u001b[1;33m(\u001b[0m\u001b[1;33m)\u001b[0m\u001b[1;33m\u001b[0m\u001b[1;33m\u001b[0m\u001b[0m\n\u001b[0m\u001b[0;32m   1083\u001b[0m \u001b[1;33m\u001b[0m\u001b[0m\n\u001b[0;32m   1084\u001b[0m     \u001b[1;32mdef\u001b[0m \u001b[0magg\u001b[0m\u001b[1;33m(\u001b[0m\u001b[0mself\u001b[0m\u001b[1;33m)\u001b[0m\u001b[1;33m:\u001b[0m\u001b[1;33m\u001b[0m\u001b[1;33m\u001b[0m\u001b[0m\n",
      "\u001b[1;32m~\\anaconda3\\envs\\sanitas\\lib\\site-packages\\pandas\\core\\apply.py\u001b[0m in \u001b[0;36mapply_standard\u001b[1;34m(self)\u001b[0m\n\u001b[0;32m   1135\u001b[0m                 \u001b[1;31m# List[Union[Callable[..., Any], str]]]]]\"; expected\u001b[0m\u001b[1;33m\u001b[0m\u001b[1;33m\u001b[0m\u001b[0m\n\u001b[0;32m   1136\u001b[0m                 \u001b[1;31m# \"Callable[[Any], Any]\"\u001b[0m\u001b[1;33m\u001b[0m\u001b[1;33m\u001b[0m\u001b[0m\n\u001b[1;32m-> 1137\u001b[1;33m                 mapped = lib.map_infer(\n\u001b[0m\u001b[0;32m   1138\u001b[0m                     \u001b[0mvalues\u001b[0m\u001b[1;33m,\u001b[0m\u001b[1;33m\u001b[0m\u001b[1;33m\u001b[0m\u001b[0m\n\u001b[0;32m   1139\u001b[0m                     \u001b[0mf\u001b[0m\u001b[1;33m,\u001b[0m  \u001b[1;31m# type: ignore[arg-type]\u001b[0m\u001b[1;33m\u001b[0m\u001b[1;33m\u001b[0m\u001b[0m\n",
      "\u001b[1;32m~\\anaconda3\\envs\\sanitas\\lib\\site-packages\\pandas\\_libs\\lib.pyx\u001b[0m in \u001b[0;36mpandas._libs.lib.map_infer\u001b[1;34m()\u001b[0m\n",
      "\u001b[1;32m~\\AppData\\Local\\Temp/ipykernel_2556/4060603374.py\u001b[0m in \u001b[0;36mclean_text\u001b[1;34m(txt)\u001b[0m\n\u001b[0;32m      5\u001b[0m \u001b[1;33m\u001b[0m\u001b[0m\n\u001b[0;32m      6\u001b[0m \u001b[1;32mdef\u001b[0m \u001b[0mclean_text\u001b[0m\u001b[1;33m(\u001b[0m\u001b[0mtxt\u001b[0m\u001b[1;33m)\u001b[0m\u001b[1;33m:\u001b[0m\u001b[1;33m\u001b[0m\u001b[1;33m\u001b[0m\u001b[0m\n\u001b[1;32m----> 7\u001b[1;33m     \u001b[1;32mreturn\u001b[0m \u001b[1;34m\" \"\u001b[0m\u001b[1;33m.\u001b[0m\u001b[0mjoin\u001b[0m\u001b[1;33m(\u001b[0m\u001b[0mclean_tokenizer\u001b[0m\u001b[1;33m(\u001b[0m\u001b[0mtxt\u001b[0m\u001b[1;33m)\u001b[0m\u001b[1;33m)\u001b[0m\u001b[1;33m\u001b[0m\u001b[1;33m\u001b[0m\u001b[0m\n\u001b[0m\u001b[0;32m      8\u001b[0m \u001b[1;33m\u001b[0m\u001b[0m\n\u001b[0;32m      9\u001b[0m \u001b[1;33m\u001b[0m\u001b[0m\n",
      "\u001b[1;32m~\\AppData\\Local\\Temp/ipykernel_2556/4060603374.py\u001b[0m in \u001b[0;36mclean_tokenizer\u001b[1;34m(txt)\u001b[0m\n\u001b[0;32m     22\u001b[0m \u001b[1;33m\u001b[0m\u001b[0m\n\u001b[0;32m     23\u001b[0m     \u001b[1;31m# lematizacion y remocion de stopwords\u001b[0m\u001b[1;33m\u001b[0m\u001b[1;33m\u001b[0m\u001b[0m\n\u001b[1;32m---> 24\u001b[1;33m     \u001b[0mtokens\u001b[0m \u001b[1;33m=\u001b[0m \u001b[1;33m[\u001b[0m\u001b[0mword\u001b[0m\u001b[1;33m.\u001b[0m\u001b[0mlemma_\u001b[0m\u001b[1;33m.\u001b[0m\u001b[0mlower\u001b[0m\u001b[1;33m(\u001b[0m\u001b[1;33m)\u001b[0m\u001b[1;33m.\u001b[0m\u001b[0mstrip\u001b[0m\u001b[1;33m(\u001b[0m\u001b[1;33m)\u001b[0m \u001b[1;32mfor\u001b[0m \u001b[0mword\u001b[0m \u001b[1;32min\u001b[0m \u001b[0mtxt\u001b[0m \u001b[1;32mif\u001b[0m \u001b[0mword\u001b[0m \u001b[1;32mnot\u001b[0m \u001b[1;32min\u001b[0m \u001b[1;33m[\u001b[0m\u001b[1;33m*\u001b[0m\u001b[0mstopwords\u001b[0m\u001b[1;33m,\u001b[0m\u001b[1;33m*\u001b[0m\u001b[0mpunctuation\u001b[0m\u001b[1;33m]\u001b[0m\u001b[1;33m]\u001b[0m\u001b[1;33m\u001b[0m\u001b[1;33m\u001b[0m\u001b[0m\n\u001b[0m\u001b[0;32m     25\u001b[0m \u001b[1;33m\u001b[0m\u001b[0m\n\u001b[0;32m     26\u001b[0m     \u001b[1;32mreturn\u001b[0m \u001b[0mtokens\u001b[0m\u001b[1;33m\u001b[0m\u001b[1;33m\u001b[0m\u001b[0m\n",
      "\u001b[1;32m~\\AppData\\Local\\Temp/ipykernel_2556/4060603374.py\u001b[0m in \u001b[0;36m<listcomp>\u001b[1;34m(.0)\u001b[0m\n\u001b[0;32m     22\u001b[0m \u001b[1;33m\u001b[0m\u001b[0m\n\u001b[0;32m     23\u001b[0m     \u001b[1;31m# lematizacion y remocion de stopwords\u001b[0m\u001b[1;33m\u001b[0m\u001b[1;33m\u001b[0m\u001b[0m\n\u001b[1;32m---> 24\u001b[1;33m     \u001b[0mtokens\u001b[0m \u001b[1;33m=\u001b[0m \u001b[1;33m[\u001b[0m\u001b[0mword\u001b[0m\u001b[1;33m.\u001b[0m\u001b[0mlemma_\u001b[0m\u001b[1;33m.\u001b[0m\u001b[0mlower\u001b[0m\u001b[1;33m(\u001b[0m\u001b[1;33m)\u001b[0m\u001b[1;33m.\u001b[0m\u001b[0mstrip\u001b[0m\u001b[1;33m(\u001b[0m\u001b[1;33m)\u001b[0m \u001b[1;32mfor\u001b[0m \u001b[0mword\u001b[0m \u001b[1;32min\u001b[0m \u001b[0mtxt\u001b[0m \u001b[1;32mif\u001b[0m \u001b[0mword\u001b[0m \u001b[1;32mnot\u001b[0m \u001b[1;32min\u001b[0m \u001b[1;33m[\u001b[0m\u001b[1;33m*\u001b[0m\u001b[0mstopwords\u001b[0m\u001b[1;33m,\u001b[0m\u001b[1;33m*\u001b[0m\u001b[0mpunctuation\u001b[0m\u001b[1;33m]\u001b[0m\u001b[1;33m]\u001b[0m\u001b[1;33m\u001b[0m\u001b[1;33m\u001b[0m\u001b[0m\n\u001b[0m\u001b[0;32m     25\u001b[0m \u001b[1;33m\u001b[0m\u001b[0m\n\u001b[0;32m     26\u001b[0m     \u001b[1;32mreturn\u001b[0m \u001b[0mtokens\u001b[0m\u001b[1;33m\u001b[0m\u001b[1;33m\u001b[0m\u001b[0m\n",
      "\u001b[1;31mTypeError\u001b[0m: Argument 'other' has incorrect type (expected spacy.tokens.token.Token, got str)"
     ]
    }
   ],
   "source": [
    "# pasando los DataFrames a través del preprocesamiento y obteniendo los objetos de spacy\n",
    "train_docs, train_data = make_docs(df_train)\n",
    "test_docs, test_data = make_docs(df_test)"
   ]
  },
  {
   "cell_type": "code",
   "execution_count": null,
   "id": "a4e75b93-dfdd-4a8b-b3c6-ace6cf7eb18e",
   "metadata": {},
   "outputs": [],
   "source": [
    "# creando los archivos de spacy en disco\n",
    "doc_bin = DocBin(docs=train_docs)\n",
    "doc_bin.to_disk(\"./spacy_data/text_train.spacy\")\n",
    "\n",
    "doc_bin = DocBin(docs=test_docs)\n",
    "doc_bin.to_disk(\"./spacy_data/text_test.spacy\")"
   ]
  },
  {
   "cell_type": "code",
   "execution_count": null,
   "id": "a3e7708c-0bb4-4093-b8d6-dc153992e495",
   "metadata": {},
   "outputs": [],
   "source": [
    "nlp.pipe_names"
   ]
  },
  {
   "cell_type": "code",
   "execution_count": null,
   "id": "535333a6-42d4-4398-ac54-29567abd8cf8",
   "metadata": {},
   "outputs": [],
   "source": [
    "!python -m spacy init fill-config ./spacy_data/base_config.cfg ./spacy_data/config.cfg"
   ]
  },
  {
   "cell_type": "code",
   "execution_count": null,
   "id": "255346fe-8a8b-44ad-b65a-64d16d121bfe",
   "metadata": {},
   "outputs": [],
   "source": [
    "# !python -m spacy train ./spacy_data/config.cfg --output ./spacy_data/output --paths.train ./spacy_data/text_train.spacy --paths.dev ./spacy_data/text_test.spacy"
   ]
  },
  {
   "cell_type": "markdown",
   "id": "3c4abc52-4b0b-4c1c-b375-10ae6638c52a",
   "metadata": {},
   "source": [
    "# Resultado del entrenamiento de spacy"
   ]
  },
  {
   "cell_type": "code",
   "execution_count": null,
   "id": "ad7326cc-f3d9-41fd-8a33-8f88454beafd",
   "metadata": {},
   "outputs": [],
   "source": [
    "# cargando el mejor modelo entrenado\n",
    "nlp = spacy.load('./spacy_data/output/model-best')\n",
    "\n",
    "text = input(\"Please input a review: \")\n",
    "doc = nlp(text)\n",
    "if doc.cats['positive']>0.5:\n",
    "    print(\"Positive review\")\n",
    "else:\n",
    "    print(\"Negative review\")"
   ]
  },
  {
   "cell_type": "markdown",
   "id": "abbc560d-f76f-42de-a241-c51b1fd5c32e",
   "metadata": {},
   "source": [
    "Spacy es una buena libería para procesamiento de textos, pero aún así el costo computacional es alto y se favorece mucho por el suo de GPU. Además el manejo de la libería con datasets imbalanceados se hace un poco más complicado. "
   ]
  },
  {
   "cell_type": "markdown",
   "id": "61b2140b-977f-440d-b2ba-06caab2da04c",
   "metadata": {},
   "source": [
    "# Usando otros modelos\n",
    "Es posible usar spacy para el preprocesamiento y otras liberías para el entrenamiento de modelos, lo que puede favorecer el trabajo con otros ingenieros y el uso de herramientas adicionales."
   ]
  },
  {
   "cell_type": "markdown",
   "id": "175120b8-51c8-4106-9027-cd24881aa228",
   "metadata": {},
   "source": [
    "## Regresión logística\n",
    "\n",
    "La regresión logística es un modelo estadístico sencillo que permite obtener la probabilidad de que una muestra pertenezca a una categoría. El modelo original se implementa para categorías binarias lo que funciona perfecto en este caso"
   ]
  },
  {
   "cell_type": "code",
   "execution_count": null,
   "id": "a3f35d1b-824b-4656-9465-d9b15d332373",
   "metadata": {},
   "outputs": [],
   "source": [
    "X_train = df_train.filter(['text','tag'])\n",
    "y_train = X_train.pop('tag')\n",
    "\n",
    "X_test = df_test.filter(['text','tag'])\n",
    "y_test = X_test.pop('tag')"
   ]
  },
  {
   "cell_type": "code",
   "execution_count": null,
   "id": "fe5c72ac-99f2-4f89-8b3f-dcc4bfa86f13",
   "metadata": {},
   "outputs": [],
   "source": [
    "X_train"
   ]
  },
  {
   "cell_type": "code",
   "execution_count": null,
   "id": "5b1238b5-a7c7-4652-8d66-956fed684480",
   "metadata": {},
   "outputs": [],
   "source": [
    "from sklearn.feature_extraction.text import CountVectorizer, TfidfVectorizer\n",
    "from sklearn.base import TransformerMixin\n",
    "from sklearn.pipeline import Pipeline\n",
    "\n",
    "\n",
    "class predictors(TransformerMixin):\n",
    "    def transform(self, X, **transform_params):\n",
    "        return [clean_text(text) for text in X]\n",
    "    \n",
    "    def fit(self, X, y=None, **fit_params):\n",
    "        return self\n",
    "    \n",
    "    def get_params(self, deep=True):\n",
    "        return {}\n",
    "\n",
    "\n",
    "from sklearn.linear_model import LogisticRegression\n",
    "classifier = LogisticRegression()\n",
    "\n",
    "bow_vector = CountVectorizer( tokenizer = clean_tokenizer, ngram_range=(1,1) )\n",
    "tfidf_vector = TfidfVectorizer( tokenizer = clean_tokenizer )\n",
    "\n",
    "pipe = Pipeline([( \"cleaner\", predictors() ),\n",
    "                 ( \"vecorizer\", bow_vector), \n",
    "                 ( \"classifier\", classifier )])\n",
    "\n",
    "pipe.fit(df_train, df_train)"
   ]
  },
  {
   "cell_type": "markdown",
   "id": "103325ce-f393-4eac-bc1b-e5b552a3b25b",
   "metadata": {},
   "source": [
    "## Deep learning"
   ]
  },
  {
   "cell_type": "code",
   "execution_count": null,
   "id": "0d3ab1ea-b2b0-4bd6-ad68-17d4468976e2",
   "metadata": {},
   "outputs": [],
   "source": [
    "import tensorflow as tf\n",
    "from tensorflow.keras.preprocessing.text import Tokenizer\n",
    "from tensorflow.keras.preprocessing.sequence import pad_sequences"
   ]
  }
 ],
 "metadata": {
  "kernelspec": {
   "display_name": "Python 3 (ipykernel)",
   "language": "python",
   "name": "python3"
  },
  "language_info": {
   "codemirror_mode": {
    "name": "ipython",
    "version": 3
   },
   "file_extension": ".py",
   "mimetype": "text/x-python",
   "name": "python",
   "nbconvert_exporter": "python",
   "pygments_lexer": "ipython3",
   "version": "3.9.7"
  }
 },
 "nbformat": 4,
 "nbformat_minor": 5
}
